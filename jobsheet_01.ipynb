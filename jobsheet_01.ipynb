{
  "nbformat": 4,
  "nbformat_minor": 0,
  "metadata": {
    "colab": {
      "provenance": [],
      "include_colab_link": true
    },
    "kernelspec": {
      "name": "python3",
      "display_name": "Python 3"
    },
    "language_info": {
      "name": "python"
    }
  },
  "cells": [
    {
      "cell_type": "markdown",
      "metadata": {
        "id": "view-in-github",
        "colab_type": "text"
      },
      "source": [
        "<a href=\"https://colab.research.google.com/github/RafaEnricoo/JOBSHEET1_PBO_2025/blob/main/jobsheet_01.ipynb\" target=\"_parent\"><img src=\"https://colab.research.google.com/assets/colab-badge.svg\" alt=\"Open In Colab\"/></a>"
      ]
    },
    {
      "cell_type": "markdown",
      "source": [
        "# Praktikum 01: Tipe data dasar"
      ],
      "metadata": {
        "id": "oMGFpVwzNNn4"
      }
    },
    {
      "cell_type": "code",
      "execution_count": 14,
      "metadata": {
        "id": "kf-lI5bbH-PZ",
        "outputId": "294f4adc-48c3-4c90-b4f1-6a0f6347f3d6",
        "colab": {
          "base_uri": "https://localhost:8080/"
        }
      },
      "outputs": [
        {
          "output_type": "stream",
          "name": "stdout",
          "text": [
            "angka_int = 10 -> <class 'int'>\n",
            "angka_float = 3.14 -> <class 'float'>\n",
            "angka_complex = (2+3j) -> <class 'complex'>\n",
            "\n",
            "noted:\n",
            "Integer adalah tipe data untuk bilangan Bulat\n",
            "Float adalah tipe data untuk bilangan Desimal/koma\n",
            "Complex adalah tipe data untuk bilangan yang terdiri dari bilangan bulat dan bilangan imajiner\n"
          ]
        }
      ],
      "source": [
        "# 1. Number (int, float, complex)\n",
        "# Integer (int)\n",
        "angka_int = 10\n",
        "print(\"angka_int =\", angka_int, \"->\", type(angka_int))\n",
        "\n",
        "# Float\n",
        "angka_float = 3.14\n",
        "print(\"angka_float =\", angka_float, \"->\", type(angka_float))\n",
        "\n",
        "# Complex\n",
        "angka_complex = 2 + 3j\n",
        "print(\"angka_complex =\", angka_complex, \"->\", type(angka_complex))\n",
        "\n",
        "print(\"\")\n",
        "print(\"noted:\")\n",
        "print(\"Integer adalah tipe data untuk bilangan Bulat\")\n",
        "print(\"Float adalah tipe data untuk bilangan Desimal/koma\")\n",
        "print(\"Complex adalah tipe data untuk bilangan yang terdiri dari bilangan bulat dan bilangan imajiner\")\n"
      ]
    },
    {
      "cell_type": "code",
      "source": [
        "# 2. Boolean\n",
        "is_active = True\n",
        "print(\"is_active =\", is_active, \"->\", type(is_active))\n",
        "\n",
        "print(\"\")\n",
        "print(\"noted:\")\n",
        "print(\"Tipe data Boolean adalah tipe data yang bernilai True atau False\")\n"
      ],
      "metadata": {
        "id": "-efQyMblM70H",
        "outputId": "1a13e993-3d01-45c9-dcdd-867695b89385",
        "colab": {
          "base_uri": "https://localhost:8080/"
        }
      },
      "execution_count": 15,
      "outputs": [
        {
          "output_type": "stream",
          "name": "stdout",
          "text": [
            "is_active = True -> <class 'bool'>\n",
            "\n",
            "noted:\n",
            "Tipe data Boolean adalah tipe data yang bernilai True atau False\n"
          ]
        }
      ]
    },
    {
      "cell_type": "code",
      "source": [
        "# 3. String\n",
        "teks = \"Hello, Python!\"\n",
        "print(\"teks =\", teks, \"->\", type(teks))\n",
        "\n",
        "print(\"\")\n",
        "print(\"noted:\")\n",
        "print(\"Tipe data String adalah tipe data yang menyimpan nilai huruf/Alfhabet\")"
      ],
      "metadata": {
        "id": "MMpwF66VNq_e",
        "outputId": "bde9a028-7e5e-4e75-fdf4-076daf9c8ba8",
        "colab": {
          "base_uri": "https://localhost:8080/"
        }
      },
      "execution_count": 16,
      "outputs": [
        {
          "output_type": "stream",
          "name": "stdout",
          "text": [
            "teks = Hello, Python! -> <class 'str'>\n",
            "\n",
            "noted:\n",
            "Tipe data String adalah tipe data yang menyimpan nilai huruf/Alfhabet\n"
          ]
        }
      ]
    },
    {
      "cell_type": "code",
      "source": [
        "# 4. List\n",
        "# List adalah tipe data terurut dan dapat diubah (mutable)\n",
        "daftar_angka = [1, 2, 3, 4, 5]\n",
        "print(\"daftar_angka =\", daftar_angka, \"->\", type(daftar_angka))\n",
        "\n",
        "print(\"\")\n",
        "print(\"noted:\")\n",
        "print(\"Tipe data list adalah tipe data yang digunakan untuk menyimpan beberapa item dalam satu variabel secara berurutan.\")"
      ],
      "metadata": {
        "id": "UI5LD6KIOBup",
        "outputId": "3473caa5-b302-49ab-85d0-6ecceed16fba",
        "colab": {
          "base_uri": "https://localhost:8080/"
        }
      },
      "execution_count": 9,
      "outputs": [
        {
          "output_type": "stream",
          "name": "stdout",
          "text": [
            "daftar_angka = [1, 2, 3, 4, 5] -> <class 'list'>\n"
          ]
        }
      ]
    },
    {
      "cell_type": "code",
      "source": [
        "# 5. Tuple\n",
        "# Tuple adalah tipe data terurut tetapi tidak dapat diubah (immutable)\n",
        "koordinat = (10, 20)\n",
        "print(\"koordinat =\", koordinat, \"->\", type(koordinat))\n",
        "\n",
        "print(\"\")\n",
        "print(\"noted:\")\n",
        "print(\"Tipe data tuple adalah tipe data yang digunakan untuk menyimpan kumpulan nilai atau data yang terurut dan tidak dapat diubah.\")"
      ],
      "metadata": {
        "id": "HKJ3mIBHRq1I",
        "outputId": "87504567-4c20-4f6e-a98f-d1327d59a2a8",
        "colab": {
          "base_uri": "https://localhost:8080/"
        }
      },
      "execution_count": 10,
      "outputs": [
        {
          "output_type": "stream",
          "name": "stdout",
          "text": [
            "koordinat = (10, 20) -> <class 'tuple'>\n"
          ]
        }
      ]
    },
    {
      "cell_type": "code",
      "source": [
        "# 6. Dictionary\n",
        "# Dictionary menyimpan data dalam pasangan key-value\n",
        "data_mahasiswa = {\n",
        "     \"nama\": \"Andi\",\n",
        "     \"nim\": \"A11.2022.12345\",\n",
        "     \"jurusan\": \"Teknik Informatika\"\n",
        "}\n",
        "print(\"data_mahasiswa =\", data_mahasiswa, \"->\", type(data_mahasiswa))\n",
        "\n",
        "print(\"\")\n",
        "print(\"noted:\")\n",
        "print(\"Tipe data dictionary adalah tipe data yang menyimpan pasangan kunci-nilai (key-value).\")\n",
        "print(\" Dictionary berguna untuk menyimpan dan mengelola data secara efisien.\")"
      ],
      "metadata": {
        "id": "pcoapm4cRqyX",
        "outputId": "28636045-d1a4-48e0-9e87-11a6963a9404",
        "colab": {
          "base_uri": "https://localhost:8080/"
        }
      },
      "execution_count": 11,
      "outputs": [
        {
          "output_type": "stream",
          "name": "stdout",
          "text": [
            "data_mahasiswa = {'nama': 'Andi', 'nim': 'A11.2022.12345', 'jurusan': 'Teknik Informatika'} -> <class 'dict'>\n"
          ]
        }
      ]
    },
    {
      "cell_type": "code",
      "source": [
        "# 7. Set\n",
        "# Set adalah tipe data yang tidak terurut, unik (tiap elemen hanya muncul 1x)\n",
        "himpunan_angka = {1, 2, 3, 2, 1}\n",
        "print(\"himpunan_angka =\", himpunan_angka, \"->\", type(himpunan_angka))\n",
        "\n",
        "print(\"\")\n",
        "print(\"noted:\")\n",
        "print(\"Tipe data Set adalah tipe data kolektif yang berisi elemen-elemen unik, tidak terurut, dan tidak bisa diubah setelah dibuat\")"
      ],
      "metadata": {
        "id": "ZbFGWmjfRqwG",
        "outputId": "6513823c-c285-4f79-89ae-f1c03a89084c",
        "colab": {
          "base_uri": "https://localhost:8080/"
        }
      },
      "execution_count": 12,
      "outputs": [
        {
          "output_type": "stream",
          "name": "stdout",
          "text": [
            "himpunan_angka = {1, 2, 3} -> <class 'set'>\n"
          ]
        }
      ]
    },
    {
      "cell_type": "code",
      "source": [
        "# 8. Contoh penggunaan konversi tipe data\n",
        "nilai_str = \"100\"\n",
        "print(\"\\nnilai_str =\", nilai_str, \"->\", type(nilai_str))\n",
        "nilai_int = int(nilai_str)  # konversi string ke integer\n",
        "print(\"nilai_int =\", nilai_int, \"->\", type(nilai_int))\n",
        "\n",
        "print(\"\")\n",
        "print(\"noted:\")\n",
        "print(\"Konversi tipe data adalah proses mengubah data dari satu tipe data ke tipe data lain.\")"
      ],
      "metadata": {
        "id": "8pP2wwdiRqs-",
        "outputId": "85758740-8469-4994-e949-c17c9cf94dac",
        "colab": {
          "base_uri": "https://localhost:8080/"
        }
      },
      "execution_count": 17,
      "outputs": [
        {
          "output_type": "stream",
          "name": "stdout",
          "text": [
            "\n",
            "nilai_str = 100 -> <class 'str'>\n",
            "nilai_int = 100 -> <class 'int'>\n",
            "\n",
            "noted:\n",
            "Konversi tipe data adalah proses mengubah data dari satu tipe data ke tipe data lain.\n"
          ]
        }
      ]
    },
    {
      "cell_type": "markdown",
      "source": [
        "# Praktikum 02: Variabel dan Operasi dasar"
      ],
      "metadata": {
        "id": "YWbEh0DQVeXV"
      }
    },
    {
      "cell_type": "code",
      "source": [],
      "metadata": {
        "id": "zHHJTkoaRqoZ"
      },
      "execution_count": null,
      "outputs": []
    },
    {
      "cell_type": "code",
      "source": [],
      "metadata": {
        "id": "2NwRvD3SRqbg"
      },
      "execution_count": null,
      "outputs": []
    }
  ]
}