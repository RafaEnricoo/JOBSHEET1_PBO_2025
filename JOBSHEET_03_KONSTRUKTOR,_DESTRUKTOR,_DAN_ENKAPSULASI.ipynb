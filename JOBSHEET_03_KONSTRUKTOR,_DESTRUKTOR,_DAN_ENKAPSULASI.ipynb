{
  "nbformat": 4,
  "nbformat_minor": 0,
  "metadata": {
    "colab": {
      "provenance": [],
      "authorship_tag": "ABX9TyO4glpyG9Az18QcuAKWddML",
      "include_colab_link": true
    },
    "kernelspec": {
      "name": "python3",
      "display_name": "Python 3"
    },
    "language_info": {
      "name": "python"
    }
  },
  "cells": [
    {
      "cell_type": "markdown",
      "metadata": {
        "id": "view-in-github",
        "colab_type": "text"
      },
      "source": [
        "<a href=\"https://colab.research.google.com/github/RafaEnricoo/JOBSHEET1_PBO_2025/blob/main/JOBSHEET_03_KONSTRUKTOR%2C_DESTRUKTOR%2C_DAN_ENKAPSULASI.ipynb\" target=\"_parent\"><img src=\"https://colab.research.google.com/assets/colab-badge.svg\" alt=\"Open In Colab\"/></a>"
      ]
    },
    {
      "cell_type": "markdown",
      "source": [
        "#**MUHAMMAD RAFA ENRICO (4.33.24.2.15)**\n",
        "#**JOBSHEET 03: KONSTRUKTOR, DESTRUKTOR, DAN ENKAPSULASI**\n"
      ],
      "metadata": {
        "id": "AGzY0QJK0p3q"
      }
    },
    {
      "cell_type": "markdown",
      "source": [
        "#Praktikum 01: Enkapsulasi pada kelas Bank Account"
      ],
      "metadata": {
        "id": "IAFkw2U01EUS"
      }
    },
    {
      "cell_type": "markdown",
      "source": [],
      "metadata": {
        "id": "x88vTujN07uG"
      }
    },
    {
      "cell_type": "code",
      "execution_count": 18,
      "metadata": {
        "id": "xac13NmK0lC3"
      },
      "outputs": [],
      "source": [
        "class BankAccount:\n",
        "    def __init__(self, owner, balance):\n",
        "        # Atribut dengan double underscore (__) dianggap \"private\" di Python\n",
        "        self.__owner = owner\n",
        "        self.__balance = balance\n",
        "\n",
        "    def deposit(self, amount):\n",
        "        \"\"\"Method untuk menambahkan saldo.\"\"\"\n",
        "        if amount > 0:\n",
        "            self.__balance += amount\n",
        "            print(f\"{amount} telah ditambahkan ke akun {self.__owner}.\")\n",
        "        else:\n",
        "            print(\"Jumlah deposit harus lebih dari 0.\")\n",
        "\n",
        "    def withdraw(self, amount):\n",
        "        \"\"\"Method untuk menarik saldo.\"\"\"\n",
        "        if amount <= self.__balance:\n",
        "            self.__balance -= amount\n",
        "            print(f\"{amount} telah ditarik dari akun {self.__owner}.\")\n",
        "        else:\n",
        "            print(\"Saldo tidak mencukupi.\")\n",
        "\n",
        "    def get_balance(self):\n",
        "        \"\"\"Method untuk mendapatkan informasi saldo terkini.\"\"\"\n",
        "        return self.__balance"
      ]
    },
    {
      "cell_type": "code",
      "source": [
        "# Contoh penggunaan\n",
        "if __name__ == \"__main__\":\n",
        "    # Membuat objek BankAccount dengan owner=\"Alice\" dan balance awal 1000\n",
        "    alice_account = BankAccount(owner=\"Alice\", balance=1000)\n",
        "\n",
        "    # Deposit uang\n",
        "    alice_account.deposit(500)       # Berhasil\n",
        "    alice_account.deposit(-100)      # Gagal (validasi)\n",
        "\n",
        "    # Withdraw uang\n",
        "    alice_account.withdraw(300)      # Berhasil\n",
        "    alice_account.withdraw(2000)     # Gagal (saldo tidak cukup)\n",
        "\n",
        "    # Mendapatkan saldo\n",
        "    current_balance = alice_account.get_balance()\n",
        "    print(f\"Saldo terakhir di akun {alice_account._BankAccount__owner}: {current_balance}\")\n",
        "\n",
        "    # Mencoba mengakses atribut 'private' langsung (tidak direkomendasikan)\n",
        "    # print(alice_account.__balance)  # Akan error\n",
        "    # Karena Python “mangling” nama atribut __balance menjadi _BankAccount__balance"
      ],
      "metadata": {
        "colab": {
          "base_uri": "https://localhost:8080/"
        },
        "id": "ekd-rn9P6mn7",
        "outputId": "418db8dc-6399-4e7e-f619-9ae6d0408bb7"
      },
      "execution_count": 19,
      "outputs": [
        {
          "output_type": "stream",
          "name": "stdout",
          "text": [
            "500 telah ditambahkan ke akun Alice.\n",
            "Jumlah deposit harus lebih dari 0.\n",
            "300 telah ditarik dari akun Alice.\n",
            "Saldo tidak mencukupi.\n",
            "Saldo terakhir di akun Alice: 1200\n"
          ]
        }
      ]
    },
    {
      "cell_type": "markdown",
      "source": [
        "#Praktikum 02: Enkapsulasi pada kelas Employee"
      ],
      "metadata": {
        "id": "NKwzHddO1iJt"
      }
    },
    {
      "cell_type": "code",
      "source": [
        "class Employee:\n",
        "    def __init__(self, name, salary):\n",
        "        # Atribut privat dengan double underscore\n",
        "        self.__name = name\n",
        "        self.__salary = salary\n",
        "\n",
        "    def update_salary(self, increase):\n",
        "        \"\"\"Method untuk menaikkan gaji dengan validasi.\"\"\"\n",
        "        if increase > 0:\n",
        "            self.__salary += increase\n",
        "            print(f\"Gaji telah dinaikkan sebesar {increase}.\")\n",
        "        else:\n",
        "            print(\"Nilai kenaikan harus lebih dari 0.\")\n",
        "\n",
        "    def set_salary(self, new_salary):\n",
        "        \"\"\"Method untuk mengubah gaji dengan validasi.\"\"\"\n",
        "        if new_salary >= 0:\n",
        "            self.__salary = new_salary\n",
        "            print(f\"Gaji diatur ulang menjadi {new_salary}.\")\n",
        "        else:\n",
        "            print(\"Gaji tidak dapat bernilai negatif.\")\n",
        "\n",
        "    def get_salary(self):\n",
        "        \"\"\"Method untuk mendapatkan informasi gaji.\"\"\"\n",
        "        return self.__salary\n",
        "\n",
        "    def get_employee_info(self):\n",
        "        \"\"\"Method untuk menampilkan informasi karyawan secara menyeluruh.\"\"\"\n",
        "        return f\"Employee: {self.__name}, Gaji: {self.__salary}\""
      ],
      "metadata": {
        "id": "5AxVn72j1kM0"
      },
      "execution_count": 20,
      "outputs": []
    },
    {
      "cell_type": "code",
      "source": [
        "# Contoh penggunaan\n",
        "if __name__ == \"__main__\":\n",
        "    # Membuat objek Employee dengan nama \"John Doe\" dan gaji awal 50000\n",
        "    employee1 = Employee(\"John Doe\", 50000)\n",
        "\n",
        "    # Tampilkan informasi karyawan\n",
        "    print(employee1.get_employee_info())\n",
        "\n",
        "    # Update gaji dengan menaikkan sebesar 5000\n",
        "    employee1.update_salary(5000)\n",
        "    print(f\"Gaji setelah kenaikan: {employee1.get_salary()}\")\n",
        "\n",
        "    # Atur ulang gaji dengan nilai baru\n",
        "    employee1.set_salary(60000)\n",
        "    print(f\"Informasi terbaru: {employee1.get_employee_info()}\")\n",
        "\n",
        "    # Mencoba mengakses atribut privat secara langsung (tidak direkomendasikan)\n",
        "    # print(employee1.__salary)  # --> Ini akan menimbulkan error"
      ],
      "metadata": {
        "colab": {
          "base_uri": "https://localhost:8080/"
        },
        "id": "ZO1a9LZ56gtg",
        "outputId": "15407843-b29b-4d72-b492-3afab3ceacad"
      },
      "execution_count": 21,
      "outputs": [
        {
          "output_type": "stream",
          "name": "stdout",
          "text": [
            "Employee: John Doe, Gaji: 50000\n",
            "Gaji telah dinaikkan sebesar 5000.\n",
            "Gaji setelah kenaikan: 55000\n",
            "Gaji diatur ulang menjadi 60000.\n",
            "Informasi terbaru: Employee: John Doe, Gaji: 60000\n"
          ]
        }
      ]
    },
    {
      "cell_type": "markdown",
      "source": [
        "#Praktikum 03: Konstruktor dan Destruktor Sederhana"
      ],
      "metadata": {
        "id": "6Pbqeivl1keK"
      }
    },
    {
      "cell_type": "code",
      "source": [
        "class SimpleExample:\n",
        "    def __init__(self, name):\n",
        "        \"\"\"\n",
        "        Konstruktor: Dipanggil saat objek dibuat.\n",
        "        Menyimpan nilai 'name' dan mencetak pesan pembuatan objek.\n",
        "        \"\"\"\n",
        "        self.name = name\n",
        "        print(f\"Konstruktor: Objek '{self.name}' telah dibuat.\")\n",
        "\n",
        "    def __del__(self):\n",
        "        \"\"\"\n",
        "        Destruktor: Dipanggil saat objek dihapus.\n",
        "        Mencetak pesan bahwa objek sedang dihapus.\n",
        "        \"\"\"\n",
        "        print(f\"Destruktor: Objek '{self.name}' sedang dihapus.\")\n",
        "\n",
        "def main():\n",
        "    print(\"Program dimulai.\\n\")\n",
        "    # Membuat objek SimpleExample\n",
        "    obj = SimpleExample(\"Demo\")\n",
        "    print(\"Program sedang berjalan...\\n\")\n",
        "    # Menghapus objek secara eksplisit\n",
        "    del obj\n",
        "    print(\"Objek telah dihapus secara eksplisit.\\n\")\n",
        "    print(\"Program selesai.\")\n",
        "\n",
        "if __name__ == \"__main__\":\n",
        "    main()"
      ],
      "metadata": {
        "colab": {
          "base_uri": "https://localhost:8080/"
        },
        "id": "UD2-Pfjp1ocv",
        "outputId": "6599598f-5f65-4152-ac01-87af31c46c77"
      },
      "execution_count": 22,
      "outputs": [
        {
          "output_type": "stream",
          "name": "stdout",
          "text": [
            "Program dimulai.\n",
            "\n",
            "Konstruktor: Objek 'Demo' telah dibuat.\n",
            "Program sedang berjalan...\n",
            "\n",
            "Destruktor: Objek 'Demo' sedang dihapus.\n",
            "Objek telah dihapus secara eksplisit.\n",
            "\n",
            "Program selesai.\n"
          ]
        }
      ]
    },
    {
      "cell_type": "markdown",
      "source": [
        "#Praktikum 04: Konstruktor dan Destruktor program FileLogger"
      ],
      "metadata": {
        "id": "EEPzh6Fw1qGo"
      }
    },
    {
      "cell_type": "code",
      "source": [
        "class FileLogger:\n",
        "    def __init__(self, filename):\n",
        "        \"\"\"\n",
        "        Konstruktor: Membuka file log untuk menulis pesan.\n",
        "        Parameter:\n",
        "        - filename: Nama file tempat pesan log akan ditulis.\n",
        "        \"\"\"\n",
        "        self.filename = filename\n",
        "        try:\n",
        "            self.file = open(filename, \"a\")  # Membuka file dalam mode append\n",
        "            print(f\"File '{filename}' berhasil dibuka untuk logging.\")\n",
        "        except Exception as e:\n",
        "            print(f\"Gagal membuka file '{filename}': {e}\")\n",
        "\n",
        "    def write_log(self, message):\n",
        "        \"\"\"\n",
        "        Menulis pesan log ke dalam file.\n",
        "        Parameter:\n",
        "        - message: Pesan yang akan ditulis ke file.\n",
        "        \"\"\"\n",
        "        self.file.write(message + \"\\n\")\n",
        "        self.file.flush()  # Memastikan pesan langsung ditulis ke disk\n",
        "        print(f\"Pesan log: '{message}' telah ditulis.\")\n",
        "\n",
        "    def __del__(self):\n",
        "        \"\"\"\n",
        "        Destruktor: Menutup file log ketika objek dihapus.\n",
        "        \"\"\"\n",
        "        if hasattr(self, \"file\") and not self.file.closed:\n",
        "            self.file.close()\n",
        "            print(f\"File '{self.filename}' telah ditutup.\")"
      ],
      "metadata": {
        "id": "rGbFCVL21p2U"
      },
      "execution_count": 23,
      "outputs": []
    },
    {
      "cell_type": "code",
      "source": [
        "# Contoh penggunaan dalam skenario nyata aplikasi\n",
        "if __name__ == \"__main__\":\n",
        "    # Membuat objek logger untuk file \"application.log\"\n",
        "    logger = FileLogger(\"application.log\")\n",
        "\n",
        "    # Menulis beberapa pesan log selama operasi aplikasi\n",
        "    logger.write_log(\"Aplikasi dimulai.\")\n",
        "    logger.write_log(\"Melakukan operasi A...\")\n",
        "    logger.write_log(\"Operasi A selesai.\")\n",
        "    logger.write_log(\"Aplikasi akan segera selesai.\")\n",
        "\n",
        "    # Menghapus objek logger secara eksplisit\n",
        "    del logger\n",
        "\n",
        "    # Jika objek tidak dihapus secara eksplisit, destruktor akan dipanggil\n",
        "    # ketika program berakhir dan garbage collection membersihkan objek tersebut."
      ],
      "metadata": {
        "colab": {
          "base_uri": "https://localhost:8080/"
        },
        "id": "IQTN7Q3y6bin",
        "outputId": "45298fe7-79b2-4b0c-f091-106f86220f29"
      },
      "execution_count": 24,
      "outputs": [
        {
          "output_type": "stream",
          "name": "stdout",
          "text": [
            "File 'application.log' berhasil dibuka untuk logging.\n",
            "Pesan log: 'Aplikasi dimulai.' telah ditulis.\n",
            "Pesan log: 'Melakukan operasi A...' telah ditulis.\n",
            "Pesan log: 'Operasi A selesai.' telah ditulis.\n",
            "Pesan log: 'Aplikasi akan segera selesai.' telah ditulis.\n",
            "File 'application.log' telah ditutup.\n"
          ]
        }
      ]
    },
    {
      "cell_type": "markdown",
      "source": [
        "#Praktikum 05: Properti \"self\" pada kelas"
      ],
      "metadata": {
        "id": "o4qKLzeg1tZJ"
      }
    },
    {
      "cell_type": "code",
      "source": [
        "class Calculator:\n",
        "    def __init__(self, initial_value=0):\n",
        "        \"\"\"\n",
        "        Konstruktor kelas Calculator.\n",
        "        - self: Mengacu pada instance yang dibuat.\n",
        "        - initial_value: Nilai awal dari kalkulator.\n",
        "        \"\"\"\n",
        "        self.value = initial_value\n",
        "        print(f\"Kalkulator diinisialisasi dengan nilai: {self.value}\")\n",
        "\n",
        "    def add(self, number):\n",
        "        \"\"\"\n",
        "        Menambahkan 'number' ke nilai yang tersimpan di objek.\n",
        "        - self.value: Menunjukkan nilai saat ini yang disimpan di objek tersebut.\n",
        "        - number: Nilai yang akan ditambahkan.\n",
        "        \"\"\"\n",
        "        self.value += number\n",
        "        print(f\"Setelah penambahan {number}, nilai sekarang adalah: {self.value}\")\n",
        "\n",
        "    def subtract(self, number):\n",
        "        \"\"\"\n",
        "        Mengurangi 'number' dari nilai yang tersimpan.\n",
        "        - self.value: Nilai saat ini dalam objek.\n",
        "        - number: Nilai yang akan dikurangkan.\n",
        "        \"\"\"\n",
        "        self.value -= number\n",
        "        print(f\"Setelah pengurangan {number}, nilai sekarang adalah: {self.value}\")\n",
        "\n",
        "    def reset(self):\n",
        "        \"\"\"\n",
        "        Mengatur ulang nilai kalkulator ke 0.\n",
        "        \"\"\"\n",
        "        self.value = 0\n",
        "        print(\"Nilai telah direset ke 0.\")\n",
        "\n",
        "    def show_value(self):\n",
        "        \"\"\"\n",
        "        Menampilkan nilai saat ini dari kalkulator.\n",
        "        \"\"\"\n",
        "        print(f\"Nilai saat ini adalah: {self.value}\")"
      ],
      "metadata": {
        "id": "1r4WQQOc1puY"
      },
      "execution_count": 25,
      "outputs": []
    },
    {
      "cell_type": "code",
      "source": [
        "# Contoh penggunaan untuk memahami peran 'self'\n",
        "def main():\n",
        "    # Membuat objek Calculator dengan nilai awal 10\n",
        "    calc1 = Calculator(initial_value=10)\n",
        "\n",
        "    # Menggunakan metode dari objek calc1\n",
        "    calc1.add(5)  # Menambah 5 ke nilai calc1\n",
        "    calc1.subtract(3)  # Mengurangi 3 dari nilai calc1\n",
        "    calc1.show_value()  # Menampilkan nilai calc1\n",
        "\n",
        "    # Membuat objek Calculator lainnya dengan nilai awal default (0)\n",
        "    calc2 = Calculator()\n",
        "    calc2.add(20)  # Menambah 20 ke nilai calc2\n",
        "    calc2.show_value()  # Menampilkan nilai calc2\n",
        "\n",
        "    # Penjelasan peran self:\n",
        "    # 'self' memungkinkan setiap instance (calc1, calc2) memiliki atribut 'value' masing-masing.\n",
        "    # Perubahan yang dilakukan pada calc1 tidak akan mempengaruhi calc2, karena masing-masing\n",
        "    # mengacu pada self yang berbeda (instance yang berbeda).\n",
        "\n",
        "if __name__ == \"__main__\":\n",
        "    main()"
      ],
      "metadata": {
        "colab": {
          "base_uri": "https://localhost:8080/"
        },
        "id": "U-s5EiXU6TEH",
        "outputId": "9b338512-59c5-4c78-dc04-b05b195d1b05"
      },
      "execution_count": 26,
      "outputs": [
        {
          "output_type": "stream",
          "name": "stdout",
          "text": [
            "Kalkulator diinisialisasi dengan nilai: 10\n",
            "Setelah penambahan 5, nilai sekarang adalah: 15\n",
            "Setelah pengurangan 3, nilai sekarang adalah: 12\n",
            "Nilai saat ini adalah: 12\n",
            "Kalkulator diinisialisasi dengan nilai: 0\n",
            "Setelah penambahan 20, nilai sekarang adalah: 20\n",
            "Nilai saat ini adalah: 20\n"
          ]
        }
      ]
    },
    {
      "cell_type": "markdown",
      "source": [
        "#Praktikum 06: Menggunakan getter, setter, dan dekorator @property untuk mengelola akses atribut"
      ],
      "metadata": {
        "id": "Yw1ITbg21wnZ"
      }
    },
    {
      "cell_type": "code",
      "source": [
        "class Person:\n",
        "    def __init__(self, name, age):\n",
        "        \"\"\"\n",
        "        Konstruktor untuk menginisialisasi objek Person dengan name dan umur.\n",
        "        Atribut privat (dengan double underscore) menyimpan data internal.\n",
        "        \"\"\"\n",
        "        self.__name = name\n",
        "        self.__age = age\n",
        "\n",
        "    @property\n",
        "    def name(self):\n",
        "        \"\"\"\n",
        "        Getter untuk atribut name.\n",
        "        Mengembalikan nilai dari __name.\n",
        "        \"\"\"\n",
        "        return self.__name\n",
        "\n",
        "    @name.setter\n",
        "    def name(self, value):\n",
        "        \"\"\"\n",
        "        Setter untuk atribut name.\n",
        "        Memeriksa apakah nilai tidak kosong sebelum mengubah nilai __name.\n",
        "        \"\"\"\n",
        "        if not value:\n",
        "            print(\"Nama tidak boleh kosong.\")\n",
        "        else:\n",
        "            self.__name = value\n",
        "\n",
        "    @property\n",
        "    def age(self):\n",
        "        \"\"\"\n",
        "        Getter untuk atribut age.\n",
        "        Mengembalikan nilai dari __age.\n",
        "        \"\"\"\n",
        "        return self.__age\n",
        "\n",
        "    @age.setter\n",
        "    def age(self, value):\n",
        "        \"\"\"\n",
        "        Setter untuk atribut age.\n",
        "        Memeriksa apakah nilai umur tidak negatif sebelum mengubah nilai __age.\n",
        "        \"\"\"\n",
        "        if value < 0:\n",
        "            print(\"Umur tidak boleh negatif!\")\n",
        "        else:\n",
        "            self.__age = value"
      ],
      "metadata": {
        "id": "P-feliXl11sB"
      },
      "execution_count": 28,
      "outputs": []
    },
    {
      "cell_type": "code",
      "source": [
        "# Contoh penggunaan\n",
        "def main():\n",
        "    # Membuat objek Person dengan nama \"Alice\" dan umur 30\n",
        "    person = Person(\"Alice\", 30)\n",
        "    print(f\"Nama: {person.name}, Umur: {person.age}\")  # Mengakses via getter\n",
        "\n",
        "    # Mengubah nama dan umur melalui setter\n",
        "    person.name = \"Bob\"  # Valid\n",
        "    person.age = 35      # Valid\n",
        "    print(f\"Nama baru: {person.name}, Umur baru: {person.age}\")\n",
        "\n",
        "    # Mencoba menetapkan nilai yang tidak valid\n",
        "    person.name = \"\"     # Akan memunculkan pesan error\n",
        "    person.age = -5      # Akan memunculkan pesan error\n",
        "\n",
        "if __name__ == \"__main__\":\n",
        "    main()"
      ],
      "metadata": {
        "colab": {
          "base_uri": "https://localhost:8080/"
        },
        "id": "u6zDQiLb1pi0",
        "outputId": "db52b142-2c44-4e17-db2a-60fd540a7a8e"
      },
      "execution_count": 27,
      "outputs": [
        {
          "output_type": "stream",
          "name": "stdout",
          "text": [
            "Nama: Alice, Umur: 30\n",
            "Nama baru: Bob, Umur baru: 35\n",
            "Nama tidak boleh kosong.\n",
            "Umur tidak boleh negatif!\n"
          ]
        }
      ]
    },
    {
      "cell_type": "markdown",
      "source": [
        "#Penugasan"
      ],
      "metadata": {
        "id": "m9duYuUR14c8"
      }
    },
    {
      "cell_type": "code",
      "source": [
        "class Student:\n",
        "    def __init__(self, name, score):\n",
        "        \"\"\"\n",
        "        Konstruktor untuk inisialisasi objek Student.\n",
        "        - name: Nama mahasiswa (str)\n",
        "        - score: Nilai mahasiswa (int, 0-100)\n",
        "        \"\"\"\n",
        "        self.__name = name\n",
        "        self.__score = score\n",
        "        self.__grade = self.__calculate_grade()  # Hitung grade otomatis\n",
        "\n",
        "    def __calculate_grade(self):\n",
        "        \"\"\"Menghitung grade berdasarkan score.\"\"\"\n",
        "        if self.__score >= 90:\n",
        "            return \"A\"\n",
        "        elif self.__score >= 80:\n",
        "            return \"B\"\n",
        "        elif self.__score >= 70:\n",
        "            return \"C\"\n",
        "        elif self.__score >= 60:\n",
        "            return \"D\"\n",
        "        else:\n",
        "            return \"E\"\n",
        "\n",
        "    # Getter dan setter untuk name\n",
        "    @property\n",
        "    def name(self):\n",
        "        return self.__name\n",
        "\n",
        "    @name.setter\n",
        "    def name(self, value):\n",
        "        if not value.strip():\n",
        "            print(\"Nama tidak boleh kosong!\")\n",
        "        else:\n",
        "            self.__name = value\n",
        "\n",
        "    # Getter dan setter untuk score (dengan validasi dan update grade otomatis)\n",
        "    @property\n",
        "    def score(self):\n",
        "        return self.__score\n",
        "\n",
        "    @score.setter\n",
        "    def score(self, value):\n",
        "        if 0 <= value <= 100:\n",
        "            self.__score = value\n",
        "            self.__grade = self.__calculate_grade()  # Update grade\n",
        "            print(\"Nilai diubah...\")\n",
        "        else:\n",
        "            print(\"Nilai harus antara 0-100!\")\n",
        "\n",
        "    # Getter untuk grade (read-only)\n",
        "    @property\n",
        "    def grade(self):\n",
        "        return self.__grade\n",
        "\n",
        "    def show_info(self):\n",
        "        \"\"\"Menampilkan informasi lengkap mahasiswa.\"\"\"\n",
        "        print(f\"Nama Mahasiswa: {self.__name}\")\n",
        "        print(f\"Nilai: {self.__score}\")\n",
        "        print(f\"Grade: {self.__grade}\")\n",
        "\n",
        "    def __del__(self):\n",
        "        \"\"\"Destruktor untuk menghapus objek.\"\"\"\n",
        "        print(f\"Data mahasiswa {self.__name} telah dihapus dari sistem.\")\n",
        "\n",
        "# Contoh penggunaan\n",
        "if __name__ == \"__main__\":\n",
        "    # Buat objek Student\n",
        "    student1 = Student(\"Siti\", 87)\n",
        "    student1.show_info()\n",
        "\n",
        "    # Ubah nilai (otomatis update grade)\n",
        "    student1.score = 93\n",
        "    student1.show_info()\n",
        "\n",
        "    # Hapus objek (destruktor dipanggil)\n",
        "    del student1"
      ],
      "metadata": {
        "colab": {
          "base_uri": "https://localhost:8080/"
        },
        "id": "IbfB76gu17Nz",
        "outputId": "a183ee83-dfcb-45b5-c915-e225a5485830"
      },
      "execution_count": 31,
      "outputs": [
        {
          "output_type": "stream",
          "name": "stdout",
          "text": [
            "Nama Mahasiswa: Siti\n",
            "Nilai: 87\n",
            "Grade: B\n",
            "Nilai diubah...\n",
            "Nama Mahasiswa: Siti\n",
            "Nilai: 93\n",
            "Grade: A\n",
            "Data mahasiswa Siti telah dihapus dari sistem.\n"
          ]
        }
      ]
    }
  ]
}