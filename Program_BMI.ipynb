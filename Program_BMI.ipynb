{
  "nbformat": 4,
  "nbformat_minor": 0,
  "metadata": {
    "colab": {
      "provenance": [],
      "authorship_tag": "ABX9TyOLAhXxah+L25A+YQP83Pr8",
      "include_colab_link": true
    },
    "kernelspec": {
      "name": "python3",
      "display_name": "Python 3"
    },
    "language_info": {
      "name": "python"
    }
  },
  "cells": [
    {
      "cell_type": "markdown",
      "metadata": {
        "id": "view-in-github",
        "colab_type": "text"
      },
      "source": [
        "<a href=\"https://colab.research.google.com/github/RafaEnricoo/JOBSHEET1_PBO_2025/blob/main/Program_BMI.ipynb\" target=\"_parent\"><img src=\"https://colab.research.google.com/assets/colab-badge.svg\" alt=\"Open In Colab\"/></a>"
      ]
    },
    {
      "cell_type": "code",
      "execution_count": null,
      "metadata": {
        "id": "tQUHuETS0XMW",
        "outputId": "89024473-c838-4dc2-8d78-86596ec750b3",
        "colab": {
          "base_uri": "https://localhost:8080/"
        }
      },
      "outputs": [
        {
          "output_type": "stream",
          "name": "stdout",
          "text": [
            "-----------------------------------------------------------\n",
            "         Program Menghitung BMI (Body Mass Index)          \n",
            "-----------------------------------------------------------\n",
            "Masukkan berat badan (kg): 70\n",
            "Masukkan tinggi badan (cm): 163\n",
            "\n",
            "Body Mass Index Anda: 26.35\n",
            "Anda termasuk Kategori: Berat Badan Berlebih (Overweight)\n",
            "\n",
            "Apakah Anda ingin menghitung BMI lagi? (y/n): n\n",
            "\n",
            "Terima kasih telah menggunakan program BMI Calculator! 😊\n"
          ]
        }
      ],
      "source": [
        "# MUHAMMAD RAFA ENRICO (4.33.24.2.15)\n",
        "# Program Menghitung BMI (Body Mass Index)\n",
        "\n",
        "print(\"-----------------------------------------------------------\")\n",
        "print(\"         Program Menghitung BMI (Body Mass Index)          \")\n",
        "print(\"-----------------------------------------------------------\")\n",
        "\n",
        "while True:\n",
        "    while True:\n",
        "        try:\n",
        "            berat = float(input(\"Masukkan berat badan (kg): \"))\n",
        "            if berat <= 0:\n",
        "                print(\"Error: Masukkan angka yang lebih besar dari 0.\")\n",
        "                continue\n",
        "            break\n",
        "        except ValueError:\n",
        "            print(\"Error: Harap masukkan angka yang valid.\")\n",
        "\n",
        "    while True:\n",
        "        try:\n",
        "            tinggi_cm = float(input(\"Masukkan tinggi badan (cm): \"))\n",
        "            if tinggi_cm <= 0:\n",
        "                print(\"Error: Masukkan angka yang lebih besar dari 0.\")\n",
        "                continue\n",
        "            break\n",
        "        except ValueError:\n",
        "            print(\"Error: Harap masukkan angka yang valid.\")\n",
        "\n",
        "    # Mengonversi tinggi dari cm ke meter\n",
        "    tinggi_m = tinggi_cm / 100\n",
        "\n",
        "    # Menghitung BMI\n",
        "    bmi = berat / (tinggi_m ** 2)\n",
        "\n",
        "    # Menentukan kategori BMI\n",
        "    if bmi < 18.5:\n",
        "        kategori = \"Berat Badan Kurang (Underweight)\"\n",
        "    elif 18.5 <= bmi < 25:\n",
        "        kategori = \"Berat Badan Normal\"\n",
        "    elif 25 <= bmi < 30:\n",
        "        kategori = \"Berat Badan Berlebih (Overweight)\"\n",
        "    else:\n",
        "        kategori = \"Anda Obesitas\"\n",
        "\n",
        "    # Menampilkan hasil\n",
        "    print(\"\\nBody Mass Index Anda: {:.2f}\".format(bmi))\n",
        "    print(\"Anda termasuk Kategori: {}\".format(kategori))\n",
        "\n",
        "    while True:\n",
        "        ulang = input(\"\\nApakah Anda ingin menghitung BMI lagi? (y/n): \").strip().lower()\n",
        "        if ulang in [\"y\", \"n\"]:\n",
        "            break\n",
        "        print(\"Error: Harap masukkan 'y' untuk ya atau 'n' untuk tidak.\")\n",
        "\n",
        "    if ulang == \"n\":\n",
        "        print(\"\\nTerima kasih telah menggunakan program BMI Calculator! 😊\")\n",
        "        break\n",
        "\n"
      ]
    }
  ]
}