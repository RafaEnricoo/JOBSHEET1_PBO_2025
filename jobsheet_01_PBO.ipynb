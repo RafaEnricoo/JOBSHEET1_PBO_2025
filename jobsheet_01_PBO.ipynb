{
  "nbformat": 4,
  "nbformat_minor": 0,
  "metadata": {
    "colab": {
      "provenance": [],
      "include_colab_link": true
    },
    "kernelspec": {
      "name": "python3",
      "display_name": "Python 3"
    },
    "language_info": {
      "name": "python"
    }
  },
  "cells": [
    {
      "cell_type": "markdown",
      "metadata": {
        "id": "view-in-github",
        "colab_type": "text"
      },
      "source": [
        "<a href=\"https://colab.research.google.com/github/RafaEnricoo/JOBSHEET1_PBO_2025/blob/main/jobsheet_01_PBO.ipynb\" target=\"_parent\"><img src=\"https://colab.research.google.com/assets/colab-badge.svg\" alt=\"Open In Colab\"/></a>"
      ]
    },
    {
      "cell_type": "markdown",
      "source": [
        "# Praktikum 01: Tipe data dasar"
      ],
      "metadata": {
        "id": "oMGFpVwzNNn4"
      }
    },
    {
      "cell_type": "code",
      "execution_count": null,
      "metadata": {
        "id": "kf-lI5bbH-PZ",
        "outputId": "5e102c85-e7a1-45e6-c402-e7ac2f5de4ae",
        "colab": {
          "base_uri": "https://localhost:8080/"
        }
      },
      "outputs": [
        {
          "output_type": "stream",
          "name": "stdout",
          "text": [
            "angka_int = 10 -> <class 'int'>\n",
            "angka_float = 3.14 -> <class 'float'>\n",
            "angka_complex = (2+3j) -> <class 'complex'>\n",
            "\n",
            "noted:\n",
            "Integer adalah tipe data yang digunakan untuk menyimpan bilangan bulat (tanpa desimal), baik positif maupun negatif\n",
            "Float adalah tipe data yang digunakan untuk menyimpan bilangan desimal atau pecahan, seperti 3.14 atau 2.71828. \n",
            "Complex adalah tipe data untuk bilangan yang terdiri dari bilangan bulat dan bilangan imajiner\n"
          ]
        }
      ],
      "source": [
        "# 1. Number (int, float, complex)\n",
        "# Integer (int)\n",
        "angka_int = 10\n",
        "print(\"angka_int =\", angka_int, \"->\", type(angka_int))\n",
        "\n",
        "# Float\n",
        "angka_float = 3.14\n",
        "print(\"angka_float =\", angka_float, \"->\", type(angka_float))\n",
        "\n",
        "# Complex\n",
        "angka_complex = 2 + 3j\n",
        "print(\"angka_complex =\", angka_complex, \"->\", type(angka_complex))\n",
        "\n",
        "print(\"\")\n",
        "print(\"noted:\")\n",
        "print(\"Integer adalah tipe data yang digunakan untuk menyimpan bilangan bulat (tanpa desimal), baik positif maupun negatif\")\n",
        "print(\"Float adalah tipe data yang digunakan untuk menyimpan bilangan desimal atau pecahan, seperti 3.14 atau 2.71828. \")\n",
        "print(\"Complex adalah tipe data untuk bilangan yang terdiri dari bilangan bulat dan bilangan imajiner\")\n"
      ]
    },
    {
      "cell_type": "code",
      "source": [
        "# 2. Boolean\n",
        "is_active = True\n",
        "print(\"is_active =\", is_active, \"->\", type(is_active))\n",
        "\n",
        "print(\"\")\n",
        "print(\"noted:\")\n",
        "print(\"Tipe data Boolean adalah tipe data yang hanya memiliki dua nilai, yaitu true (benar) atau false (salah). \")\n"
      ],
      "metadata": {
        "id": "-efQyMblM70H",
        "outputId": "e7efc378-b6e9-4b0b-9e1f-928900e3e78b",
        "colab": {
          "base_uri": "https://localhost:8080/"
        }
      },
      "execution_count": null,
      "outputs": [
        {
          "output_type": "stream",
          "name": "stdout",
          "text": [
            "is_active = True -> <class 'bool'>\n",
            "\n",
            "noted:\n",
            "Tipe data Boolean adalah tipe data yang hanya memiliki dua nilai, yaitu true (benar) atau false (salah). \n"
          ]
        }
      ]
    },
    {
      "cell_type": "code",
      "source": [
        "# 3. String\n",
        "teks = \"Hello, Python!\"\n",
        "print(\"teks =\", teks, \"->\", type(teks))\n",
        "\n",
        "print(\"\")\n",
        "print(\"noted:\")\n",
        "print(\"Tipe data String adalah tipe data pemrograman yang dapat menyimpan kumpulan karakter, angka, tanggal, atau waktu.\")"
      ],
      "metadata": {
        "id": "MMpwF66VNq_e",
        "outputId": "3d25fe49-af7c-4386-8c13-9f8154dbd2c1",
        "colab": {
          "base_uri": "https://localhost:8080/"
        }
      },
      "execution_count": null,
      "outputs": [
        {
          "output_type": "stream",
          "name": "stdout",
          "text": [
            "teks = Hello, Python! -> <class 'str'>\n",
            "\n",
            "noted:\n",
            "Tipe data String adalah tipe data pemrograman yang dapat menyimpan kumpulan karakter, angka, tanggal, atau waktu.\n"
          ]
        }
      ]
    },
    {
      "cell_type": "code",
      "source": [
        "# 4. List\n",
        "# List adalah tipe data terurut dan dapat diubah (mutable)\n",
        "daftar_angka = [1, 2, 3, 4, 5]\n",
        "print(\"daftar_angka =\", daftar_angka, \"->\", type(daftar_angka))\n",
        "\n",
        "print(\"\")\n",
        "print(\"noted:\")\n",
        "print(\"Tipe data list adalah tipe data yang digunakan untuk menyimpan beberapa item dalam satu variabel secara berurutan.\")"
      ],
      "metadata": {
        "id": "UI5LD6KIOBup",
        "outputId": "6c793776-441f-4a46-efb7-0223f04ebbf0",
        "colab": {
          "base_uri": "https://localhost:8080/"
        }
      },
      "execution_count": null,
      "outputs": [
        {
          "output_type": "stream",
          "name": "stdout",
          "text": [
            "daftar_angka = [1, 2, 3, 4, 5] -> <class 'list'>\n",
            "\n",
            "noted:\n",
            "Tipe data list adalah tipe data yang digunakan untuk menyimpan beberapa item dalam satu variabel secara berurutan.\n"
          ]
        }
      ]
    },
    {
      "cell_type": "code",
      "source": [
        "# 5. Tuple\n",
        "# Tuple adalah tipe data terurut tetapi tidak dapat diubah (immutable)\n",
        "koordinat = (10, 20)\n",
        "print(\"koordinat =\", koordinat, \"->\", type(koordinat))\n",
        "\n",
        "print(\"\")\n",
        "print(\"noted:\")\n",
        "print(\"Tipe data tuple adalah tipe data yang digunakan untuk menyimpan kumpulan nilai atau data yang terurut dan tidak dapat diubah.\")"
      ],
      "metadata": {
        "id": "HKJ3mIBHRq1I",
        "outputId": "a7c5e50a-9ae6-45fc-cd8c-bcfc74c39c97",
        "colab": {
          "base_uri": "https://localhost:8080/"
        }
      },
      "execution_count": null,
      "outputs": [
        {
          "output_type": "stream",
          "name": "stdout",
          "text": [
            "koordinat = (10, 20) -> <class 'tuple'>\n",
            "\n",
            "noted:\n",
            "Tipe data tuple adalah tipe data yang digunakan untuk menyimpan kumpulan nilai atau data yang terurut dan tidak dapat diubah.\n"
          ]
        }
      ]
    },
    {
      "cell_type": "code",
      "source": [
        "# 6. Dictionary\n",
        "# Dictionary menyimpan data dalam pasangan key-value\n",
        "data_mahasiswa = {\n",
        "     \"nama\": \"Andi\",\n",
        "     \"nim\": \"A11.2022.12345\",\n",
        "     \"jurusan\": \"Teknik Informatika\"\n",
        "}\n",
        "print(\"data_mahasiswa =\", data_mahasiswa, \"->\", type(data_mahasiswa))\n",
        "\n",
        "print(\"\")\n",
        "print(\"noted:\")\n",
        "print(\"Tipe data dictionary adalah tipe data yang menyimpan pasangan kunci-nilai (key-value).\")\n",
        "print(\"Dictionary berguna untuk menyimpan dan mengelola data secara efisien.\")"
      ],
      "metadata": {
        "id": "pcoapm4cRqyX",
        "outputId": "bd282290-5cf5-4ece-bd78-0c2f057fa215",
        "colab": {
          "base_uri": "https://localhost:8080/"
        }
      },
      "execution_count": null,
      "outputs": [
        {
          "output_type": "stream",
          "name": "stdout",
          "text": [
            "data_mahasiswa = {'nama': 'Andi', 'nim': 'A11.2022.12345', 'jurusan': 'Teknik Informatika'} -> <class 'dict'>\n",
            "\n",
            "noted:\n",
            "Tipe data dictionary adalah tipe data yang menyimpan pasangan kunci-nilai (key-value).\n",
            "Dictionary berguna untuk menyimpan dan mengelola data secara efisien.\n"
          ]
        }
      ]
    },
    {
      "cell_type": "code",
      "source": [
        "# 7. Set\n",
        "# Set adalah tipe data yang tidak terurut, unik (tiap elemen hanya muncul 1x)\n",
        "himpunan_angka = {1, 2, 3, 2, 1}\n",
        "print(\"himpunan_angka =\", himpunan_angka, \"->\", type(himpunan_angka))\n",
        "\n",
        "print(\"\")\n",
        "print(\"noted:\")\n",
        "print(\"Tipe data Set adalah tipe data kolektif yang berisi elemen-elemen unik, tidak terurut, dan tidak bisa diubah setelah dibuat\")"
      ],
      "metadata": {
        "id": "ZbFGWmjfRqwG",
        "outputId": "53d26702-bcfa-4667-c755-1d9ec1b93ca1",
        "colab": {
          "base_uri": "https://localhost:8080/"
        }
      },
      "execution_count": null,
      "outputs": [
        {
          "output_type": "stream",
          "name": "stdout",
          "text": [
            "himpunan_angka = {1, 2, 3} -> <class 'set'>\n",
            "\n",
            "noted:\n",
            "Tipe data Set adalah tipe data kolektif yang berisi elemen-elemen unik, tidak terurut, dan tidak bisa diubah setelah dibuat\n"
          ]
        }
      ]
    },
    {
      "cell_type": "code",
      "source": [
        "# 8. Contoh penggunaan konversi tipe data\n",
        "nilai_str = \"100\"\n",
        "print(\"\\nnilai_str =\", nilai_str, \"->\", type(nilai_str))\n",
        "nilai_int = int(nilai_str)  # konversi string ke integer\n",
        "print(\"nilai_int =\", nilai_int, \"->\", type(nilai_int))\n",
        "\n",
        "print(\"\")\n",
        "print(\"noted:\")\n",
        "print(\"Konversi tipe data adalah proses mengubah data dari satu tipe data ke tipe data lain.\")"
      ],
      "metadata": {
        "id": "8pP2wwdiRqs-",
        "outputId": "761ad499-7330-4468-95fa-5e34361d513b",
        "colab": {
          "base_uri": "https://localhost:8080/"
        }
      },
      "execution_count": null,
      "outputs": [
        {
          "output_type": "stream",
          "name": "stdout",
          "text": [
            "\n",
            "nilai_str = 100 -> <class 'str'>\n",
            "nilai_int = 100 -> <class 'int'>\n",
            "\n",
            "noted:\n",
            "Konversi tipe data adalah proses mengubah data dari satu tipe data ke tipe data lain.\n"
          ]
        }
      ]
    },
    {
      "cell_type": "markdown",
      "source": [
        "# Praktikum 02: Variabel dan Operasi dasar"
      ],
      "metadata": {
        "id": "YWbEh0DQVeXV"
      }
    },
    {
      "cell_type": "code",
      "source": [
        "# 1. Pendeklarasian Variabel\n",
        "nama = \"Budi\"\n",
        "umur = 20\n",
        "tinggi = 170.5\n",
        "is_student = True\n",
        "\n",
        "print(\"Nama =\", nama)\n",
        "print(\"Umur =\", umur)\n",
        "print(\"Tinggi =\", tinggi, \"cm\")\n",
        "print(\"Mahasiswa =\", is_student)\n",
        "# Python tidak memerlukan deklarasi tipe data secara eksplisit.\n",
        "# Tipe data variabel akan menyesuaikan nilai yang diberikan.\n",
        "\n",
        "print(\"\")\n",
        "print(\"noted:\")\n",
        "print(\"Deklarasi variabel adalah proses mendefinisikan variabel dalam program komputer.\")\n",
        "print(\"Deklarasi variabel harus dilakukan sebelum menggunakan variabel dalam kode.\")"
      ],
      "metadata": {
        "id": "zHHJTkoaRqoZ",
        "outputId": "4759e4eb-5880-4cc9-f9ab-41c2f21ddeaf",
        "colab": {
          "base_uri": "https://localhost:8080/"
        }
      },
      "execution_count": 60,
      "outputs": [
        {
          "output_type": "stream",
          "name": "stdout",
          "text": [
            "Nama = Budi\n",
            "Umur = 20\n",
            "Tinggi = 170.5 cm\n",
            "Mahasiswa = True\n",
            "\n",
            "noted:\n",
            "Deklarasi variabel adalah proses mendefinisikan variabel dalam program komputer.\n",
            "Deklarasi variabel harus dilakukan sebelum menggunakan variabel dalam kode.\n"
          ]
        }
      ]
    },
    {
      "cell_type": "code",
      "source": [
        "# 2. Operasi Aritmetika\n",
        "a = 10\n",
        "b = 3\n",
        "\n",
        "penjumlahan = a + b      # Tambah\n",
        "pengurangan = a - b      # Kurang\n",
        "perkalian = a * b        # Kali\n",
        "pembagian = a / b        # Bagi (hasil float)\n",
        "pembagian_bulat = a // b # Bagi (bulat)\n",
        "modulus = a % b          # Sisa bagi\n",
        "pangkat = a ** b         # Pemangkatan\n",
        "\n",
        "print(\"\\nOPERASI ARITMETIKA\")\n",
        "print(\"a =\", a, \", b =\", b)\n",
        "print(\"Penjumlahan =\", penjumlahan)\n",
        "print(\"Pengurangan =\", pengurangan)\n",
        "print(\"Perkalian =\", perkalian)\n",
        "print(\"Pembagian =\", pembagian)\n",
        "print(\"Pembagian Bulat =\", pembagian_bulat)\n",
        "print(\"Modulus =\", modulus)\n",
        "print(\"Pangkat =\", pangkat)\n"
      ],
      "metadata": {
        "id": "2NwRvD3SRqbg",
        "outputId": "c7aea320-ae13-47f8-e120-db3e5ceefe12",
        "colab": {
          "base_uri": "https://localhost:8080/"
        }
      },
      "execution_count": 63,
      "outputs": [
        {
          "output_type": "stream",
          "name": "stdout",
          "text": [
            "\n",
            "OPERASI ARITMETIKA\n",
            "a = 10 , b = 3\n",
            "Penjumlahan = 13\n",
            "Pengurangan = 7\n",
            "Perkalian = 30\n",
            "Pembagian = 3.3333333333333335\n",
            "Pembagian Bulat = 3\n",
            "Modulus = 1\n",
            "Pangkat = 1000\n"
          ]
        }
      ]
    },
    {
      "cell_type": "code",
      "source": [
        "# 3. Operasi Perbandingan\n",
        "# Menghasilkan nilai Boolean (True/False)\n",
        "lebih_besar = a > b\n",
        "kurang_dari = a < b\n",
        "sama_dengan = a == b\n",
        "tidak_sama = a != b\n",
        "lebih_besar_sama = a >= b\n",
        "kurang_sama = a <= b\n",
        "\n",
        "print(\"\\nOPERASI PERBANDINGAN\")\n",
        "print(\"a > b =\", lebih_besar)\n",
        "print(\"a < b =\", kurang_dari)\n",
        "print(\"a == b =\", sama_dengan)\n",
        "print(\"a != b =\", tidak_sama)\n",
        "print(\"a >= b =\", lebih_besar_sama)\n",
        "print(\"a <= b =\", kurang_sama)\n"
      ],
      "metadata": {
        "id": "u8SLxuy0XGKZ",
        "outputId": "b4071134-020c-4404-d435-e60b09d6938e",
        "colab": {
          "base_uri": "https://localhost:8080/"
        }
      },
      "execution_count": 65,
      "outputs": [
        {
          "output_type": "stream",
          "name": "stdout",
          "text": [
            "\n",
            "OPERASI PERBANDINGAN\n",
            "a > b = True\n",
            "a < b = False\n",
            "a == b = False\n",
            "a != b = True\n",
            "a >= b = True\n",
            "a <= b = False\n"
          ]
        }
      ]
    },
    {
      "cell_type": "code",
      "source": [
        "# 4. Operasi Logika\n",
        "# and, or, not\n",
        "x = True\n",
        "y = False\n",
        "logika_and = x and y\n",
        "logika_or = x or y\n",
        "logika_not_x = not x\n",
        "\n",
        "print(\"\\nOPERASI LOGIKA\")\n",
        "print(\"x =\", x, \", y =\", y)\n",
        "print(\"x and y =\", logika_and)\n",
        "print(\"x or y =\", logika_or)\n",
        "print(\"not x =\", logika_not_x)"
      ],
      "metadata": {
        "id": "clLjfvjtXGFM",
        "outputId": "bfc6eaa6-75be-4e6d-aa14-ac0c497e7843",
        "colab": {
          "base_uri": "https://localhost:8080/"
        }
      },
      "execution_count": 66,
      "outputs": [
        {
          "output_type": "stream",
          "name": "stdout",
          "text": [
            "\n",
            "OPERASI LOGIKA\n",
            "x = True , y = False\n",
            "x and y = False\n",
            "x or y = True\n",
            "not x = False\n"
          ]
        }
      ]
    },
    {
      "cell_type": "code",
      "source": [
        "# 5. Contoh penggunaan di dalam percabangan\n",
        "if a > b and b > 0:\n",
        "    print(\"\\nKondisi terpenuhi: a lebih besar dari b, dan b masih positif.\")\n",
        "else:\n",
        "    print(\"\\nKondisi tidak terpenuhi atau b <= 0.\")"
      ],
      "metadata": {
        "id": "wCwP-3d1XF-w",
        "outputId": "ab8ac520-d528-453a-befd-df2cc7c674a8",
        "colab": {
          "base_uri": "https://localhost:8080/"
        }
      },
      "execution_count": 68,
      "outputs": [
        {
          "output_type": "stream",
          "name": "stdout",
          "text": [
            "\n",
            "Kondisi terpenuhi: a lebih besar dari b, dan b masih positif.\n"
          ]
        }
      ]
    },
    {
      "cell_type": "markdown",
      "source": [
        "# Praktikum 03: Percabangan"
      ],
      "metadata": {
        "id": "4R-aPYECYe2e"
      }
    },
    {
      "cell_type": "code",
      "source": [
        "# 1. IF Sederhana\n",
        "# Program hanya mengeksekusi blok jika kondisinya True\n",
        "\n",
        "nilai = 85\n",
        "print(\"Contoh IF Sederhana:\")\n",
        "if nilai > 80:\n",
        "     print(\"Selamat! Anda lulus dengan nilai tinggi.\\n\")\n",
        "\n",
        "print(\"noted:\")\n",
        "print(\"Percabangan if adalah struktur kontrol dalam pemrograman yang digunakan untuk memutuskan apakah suatu blok pernyataan akan dieksekusi atau tidak.\")"
      ],
      "metadata": {
        "id": "tqY8wTExXFyP",
        "outputId": "fb262170-1ea6-4018-d2b8-3557493d5861",
        "colab": {
          "base_uri": "https://localhost:8080/"
        }
      },
      "execution_count": 75,
      "outputs": [
        {
          "output_type": "stream",
          "name": "stdout",
          "text": [
            "Contoh IF Sederhana:\n",
            "Selamat! Anda lulus dengan nilai tinggi.\n",
            "\n",
            "noted:\n",
            "Percabangan if adalah struktur kontrol dalam pemrograman yang digunakan untuk memutuskan apakah suatu blok pernyataan akan dieksekusi atau tidak.\n"
          ]
        }
      ]
    },
    {
      "cell_type": "code",
      "source": [
        "# 2. IF-ELSE\n",
        "# Jika kondisi True, eksekusi blok if; jika False, eksekusi blok else\n",
        "umur = 17\n",
        "print(\"Contoh IF-ELSE:\")\n",
        "if umur >= 18:\n",
        "    print(\"Anda sudah cukup umur untuk mendapatkan SIM.\")\n",
        "else:\n",
        "    print(\"Anda belum cukup umur untuk mendapatkan SIM.\\n\")\n",
        "\n",
        "print(\"noted:\")\n",
        "print(\"Percabangan if-else adalah struktur pemrograman yang digunakan untuk memilih blok kode yang akan dieksekusi berdasarkan kondisi tertentu.\")"
      ],
      "metadata": {
        "id": "zU2jPPSAYmpT",
        "outputId": "d257de89-bf3b-4144-a934-5099dff4bd41",
        "colab": {
          "base_uri": "https://localhost:8080/"
        }
      },
      "execution_count": 76,
      "outputs": [
        {
          "output_type": "stream",
          "name": "stdout",
          "text": [
            "Contoh IF-ELSE:\n",
            "Anda belum cukup umur untuk mendapatkan SIM.\n",
            "\n",
            "noted:\n",
            "Percabangan if-else adalah struktur pemrograman yang digunakan untuk memilih blok kode yang akan dieksekusi berdasarkan kondisi tertentu.\n"
          ]
        }
      ]
    },
    {
      "cell_type": "code",
      "source": [
        "# 3. IF-ELIF-ELSE\n",
        "# Menangani banyak kondisi secara berurutan.\n",
        "# Jika ada kondisi yang terpenuhi, blok yang bersangkutan dieksekusi, 26: # lalu program melewati blok kondisi setelahnya.\n",
        "\n",
        "hari = \"Rabu\"\n",
        "print(\"Contoh IF-ELIF-ELSE:\")\n",
        "if hari == \"Senin\":\n",
        "    print(\"Hari Senin - Saatnya kembali bekerja!\")\n",
        "elif hari == \"Selasa\":\n",
        "    print(\"Hari Selasa - Jadwal rapat mingguan.\")\n",
        "elif hari == \"Rabu\":\n",
        "    print(\"Hari Rabu - Ada diskon di beberapa toko.\")\n",
        "else:\n",
        "    print(\"Hari lainnya - Atur jadwalmu dengan baik.\\n\")\n",
        "\n",
        "print(\"\")\n",
        "print(\"noted:\")\n",
        "print(\"If, elif, dan else adalah pernyataan kondisional dalam bahasa pemrograman Python yang digunakan untuk mengendalikan aliran eksekusi.\")\n",
        "print(\"Pernyataan ini digunakan untuk membuat keputusan berdasarkan kondisi tertentu.\")"
      ],
      "metadata": {
        "id": "9j7CGeYnY-bm",
        "outputId": "12af7dea-9fa9-4f43-92e9-fc7b64f5d027",
        "colab": {
          "base_uri": "https://localhost:8080/"
        }
      },
      "execution_count": 80,
      "outputs": [
        {
          "output_type": "stream",
          "name": "stdout",
          "text": [
            "Contoh IF-ELIF-ELSE:\n",
            "Hari Rabu - Ada diskon di beberapa toko.\n",
            "\n",
            "noted:\n",
            "If, elif, dan else adalah pernyataan kondisional dalam bahasa pemrograman Python yang digunakan untuk mengendalikan aliran eksekusi.\n",
            "Pernyataan ini digunakan untuk membuat keputusan berdasarkan kondisi tertentu.\n"
          ]
        }
      ]
    },
    {
      "cell_type": "code",
      "source": [
        "# 4. IF Bersarang (Nested IF)\n",
        "# Kondisi di dalam kondisi, biasa digunakan jika kita perlu 42: # memeriksa sub-kondisi setelah kondisi pertama terpenuhi.\n",
        "\n",
        "suhu = 35\n",
        "print(\"Contoh IF Bersarang (Nested IF):\")\n",
        "if suhu > 30:\n",
        "    print(\"Cuaca cukup panas.\")\n",
        "    if suhu > 40:\n",
        "        print(\"Bahkan sangat terik! Disarankan banyak minum air.\")\n",
        "    else:\n",
        "        print(\"Masih relatif normal, tapi tetap jaga kesehatan.\")\n",
        "else:\n",
        "    print(\"Cuaca sepertinya cukup sejuk.\\n\")\n",
        "\n",
        "print(\"\")\n",
        "print(\"noted:\")\n",
        "print(\"Nested-If statement (Pernyataan If bersarang) adalah kondisi di mana kita menggunakan pernyataan if di dalam pernyataan if lainnya.\")"
      ],
      "metadata": {
        "id": "6xaLwWgiY-Yx",
        "outputId": "ff16d77a-2754-432a-f7de-8272d3042fb0",
        "colab": {
          "base_uri": "https://localhost:8080/"
        }
      },
      "execution_count": 81,
      "outputs": [
        {
          "output_type": "stream",
          "name": "stdout",
          "text": [
            "Contoh IF Bersarang (Nested IF):\n",
            "Cuaca cukup panas.\n",
            "Masih relatif normal, tapi tetap jaga kesehatan.\n",
            "\n",
            "noted:\n",
            "Nested-If statement (Pernyataan If bersarang) adalah kondisi di mana kita menggunakan pernyataan if di dalam pernyataan if lainnya.  \n"
          ]
        }
      ]
    },
    {
      "cell_type": "code",
      "source": [
        "# 5. Menggabungkan Percabangan dengan Operasi Logika\n",
        "# Memeriksa beberapa kondisi sekaligus dengan and, or, not\n",
        "\n",
        "nilai_teori = 75\n",
        "nilai_praktik = 80\n",
        "print(\"Contoh IF dengan Operasi Logika AND/OR:\")\n",
        "if nilai_teori >= 70 and nilai_praktik >= 70:\n",
        "    print(\"Anda lulus karena nilai teori dan praktik memadai.\")\n",
        "elif nilai_teori < 70 and nilai_praktik < 70:\n",
        "    print(\"Anda perlu meningkatkan nilai teori dan praktik.\")\n",
        "elif nilai_teori < 70:\n",
        "    print(\"Anda perlu meningkatkan nilai teori.\")\n",
        "else:\n",
        "    print(\"Anda perlu meningkatkan nilai praktik.\\n\")"
      ],
      "metadata": {
        "id": "ouc1QiBjZZag",
        "outputId": "a5f0e0d9-7a5b-46d9-a89b-4d02dfbb3bff",
        "colab": {
          "base_uri": "https://localhost:8080/"
        }
      },
      "execution_count": 82,
      "outputs": [
        {
          "output_type": "stream",
          "name": "stdout",
          "text": [
            "Contoh IF dengan Operasi Logika AND/OR:\n",
            "Anda lulus karena nilai teori dan praktik memadai.\n"
          ]
        }
      ]
    },
    {
      "cell_type": "code",
      "source": [
        "# 6. Penggunaan If Ternary (atau Conditional Expression)\n",
        "# Bentuk ringkas: <hasil_if_true> if <kondisi> else <hasil_if_false> 74:\n",
        "angka = -5\n",
        "print(\"Contoh If Ternary (Conditional Expression):\")\n",
        "status = \"Positif\" if angka > 0 else \"Negatif atau Nol\"\n",
        "print(\"Angka =\", angka, \"=>\", status)\n",
        "\n",
        "print(\"\")\n",
        "print(\"noted:\")\n",
        "print(\"If ternary atau operator ternary adalah operator kondisional dalam pemrograman yang digunakan untuk mengevaluasi ekspresi berdasarkan kondisi.\")"
      ],
      "metadata": {
        "id": "tmQ-T277ZfsK",
        "outputId": "461ba62e-3d89-4e7d-b8f8-68f9c9f8bf78",
        "colab": {
          "base_uri": "https://localhost:8080/"
        }
      },
      "execution_count": 84,
      "outputs": [
        {
          "output_type": "stream",
          "name": "stdout",
          "text": [
            "Contoh If Ternary (Conditional Expression):\n",
            "Angka = -5 => Negatif atau Nol\n",
            "\n",
            "noted:\n",
            "If ternary atau operator ternary adalah operator kondisional dalam pemrograman yang digunakan untuk mengevaluasi ekspresi berdasarkan kondisi.\n"
          ]
        }
      ]
    },
    {
      "cell_type": "markdown",
      "source": [
        "# Praktikum 04: Perulangan"
      ],
      "metadata": {
        "id": "g_pByOIIaI-A"
      }
    },
    {
      "cell_type": "code",
      "source": [
        "# 1. FOR Loop dengan range()\n",
        "print(\"1) FOR loop dengan range()\")\n",
        "for i in range(5):\n",
        "    print(\"Perulangan ke-\", i)\n",
        "# range(5) menghasilkan nilai 0, 1, 2, 3, dan 4\n",
        "# Sehingga perulangan akan berjalan sebanyak 5 kali\n",
        "\n",
        "print()  # pemisah output\n",
        "print(\"noted:\")\n",
        "print(\"For loop dengan range adalah perulangan dalam Python yang menggunakan fungsi range() untuk menghasilkan urutan angka.\")\n"
      ],
      "metadata": {
        "id": "zb63ZQZ2Zquu",
        "outputId": "796dc118-59a8-4af5-910e-7ff2c4a8fac2",
        "colab": {
          "base_uri": "https://localhost:8080/"
        }
      },
      "execution_count": 97,
      "outputs": [
        {
          "output_type": "stream",
          "name": "stdout",
          "text": [
            "1) FOR loop dengan range()\n",
            "Perulangan ke- 0\n",
            "Perulangan ke- 1\n",
            "Perulangan ke- 2\n",
            "Perulangan ke- 3\n",
            "Perulangan ke- 4\n",
            "\n",
            "noted:\n",
            "For loop dengan range adalah perulangan dalam Python yang menggunakan fungsi range() untuk menghasilkan urutan angka.\n"
          ]
        }
      ]
    },
    {
      "cell_type": "code",
      "source": [
        "# 2. FOR Loop untuk mengiterasi List\n",
        "print(\"2) FOR loop mengiterasi list\")\n",
        "buah = [\"apel\", \"mangga\", \"jeruk\", \"pisang\"]\n",
        "for item in buah:\n",
        "    print(\"Buah:\", item)\n",
        "# Loop akan mengeksekusi setiap elemen dalam list \"buah\"\n",
        "\n",
        "print()"
      ],
      "metadata": {
        "id": "rnWE_silZqry",
        "outputId": "764355b7-f9bf-4ef9-c01b-f7c7ecf4cea0",
        "colab": {
          "base_uri": "https://localhost:8080/"
        }
      },
      "execution_count": 100,
      "outputs": [
        {
          "output_type": "stream",
          "name": "stdout",
          "text": [
            "2) FOR loop mengiterasi list\n",
            "Buah: apel\n",
            "Buah: mangga\n",
            "Buah: jeruk\n",
            "Buah: pisang\n",
            "\n"
          ]
        }
      ]
    },
    {
      "cell_type": "code",
      "source": [
        "# 3. WHILE Loop\n",
        "print(\"3) WHILE loop sederhana\")\n",
        "count = 0\n",
        "while count < 5:\n",
        "    print(\"count =\", count)\n",
        "    count += 1  # increment\n",
        "# Perulangan while terus dijalankan selama kondisi (count < 5) bernilai\n",
        "True\n",
        "\n",
        "print()\n",
        "\n",
        "print(\"noted:\")\n",
        "print(\"While loop adalah struktur pemrograman yang mengulang eksekusi kode berulang kali selama kondisi tertentu terpenuhi.\")"
      ],
      "metadata": {
        "id": "oifeOslZZqnz",
        "outputId": "00f6fdd3-d246-48e3-e558-1808a5694991",
        "colab": {
          "base_uri": "https://localhost:8080/"
        }
      },
      "execution_count": 101,
      "outputs": [
        {
          "output_type": "stream",
          "name": "stdout",
          "text": [
            "3) WHILE loop sederhana\n",
            "count = 0\n",
            "count = 1\n",
            "count = 2\n",
            "count = 3\n",
            "count = 4\n",
            "\n",
            "noted:\n",
            "While loop adalah struktur pemrograman yang mengulang eksekusi kode berulang kali selama kondisi tertentu terpenuhi.\n"
          ]
        }
      ]
    },
    {
      "cell_type": "code",
      "source": [
        "# 4. BREAK pada Loop\n",
        "print(\"4) BREAK di dalam loop\")\n",
        "for i in range(10):\n",
        "    if i == 3:\n",
        "        print(\"Loop dihentikan pada i =\", i)\n",
        "        break  # mengakhiri loop saat i = 3\n",
        "    print(\"i =\", i)\n",
        "# Keyword break langsung menghentikan keseluruhan perulangan\n",
        "\n",
        "print()\n",
        "\n",
        "print(\"noted:\")\n",
        "print(\"Break pada loop adalah perintah yang digunakan untuk mengakhiri loop sebelum loop selesai.\")"
      ],
      "metadata": {
        "id": "qM6xOKWQZqh_",
        "outputId": "d1c9838d-7e9a-48e2-887b-50d5927a43ab",
        "colab": {
          "base_uri": "https://localhost:8080/"
        }
      },
      "execution_count": 104,
      "outputs": [
        {
          "output_type": "stream",
          "name": "stdout",
          "text": [
            "4) BREAK di dalam loop\n",
            "i = 0\n",
            "i = 1\n",
            "i = 2\n",
            "Loop dihentikan pada i = 3\n",
            "\n",
            "noted:\n",
            "Break pada loop adalah perintah yang digunakan untuk mengakhiri loop sebelum loop selesai.\n"
          ]
        }
      ]
    },
    {
      "cell_type": "code",
      "source": [
        "# 5. CONTINUE pada Loop\n",
        "print(\"5) CONTINUE di dalam loop\")\n",
        "for i in range(5):\n",
        "    if i == 2:\n",
        "        print(\"Lewati i =\", i, \"dengan continue\")\n",
        "        continue  # melewati iterasi saat ini dan lanjut ke iterasi berikutnya\n",
        "    print(\"i =\", i)\n",
        "# Saat i = 2, baris print(\"i =\", i) tidak akan dieksekusi\n",
        "\n",
        "print()\n",
        "\n",
        "print(\"noted:\")\n",
        "print(\"Continue pada loop berfungsi untuk melewati bagian loop tertentu dan melanjutkan ke iterasi berikutnya.\")"
      ],
      "metadata": {
        "id": "cqz8RlOda1mN",
        "outputId": "7b0946aa-634d-4df7-e3c7-243ca2105ca5",
        "colab": {
          "base_uri": "https://localhost:8080/"
        }
      },
      "execution_count": 105,
      "outputs": [
        {
          "output_type": "stream",
          "name": "stdout",
          "text": [
            "5) CONTINUE di dalam loop\n",
            "i = 0\n",
            "i = 1\n",
            "Lewati i = 2 dengan continue\n",
            "i = 3\n",
            "i = 4\n",
            "\n",
            "noted:\n",
            "Continue pada loop berfungsi untuk melewati bagian loop tertentu dan melanjutkan ke iterasi berikutnya.\n"
          ]
        }
      ]
    },
    {
      "cell_type": "code",
      "source": [
        "# 6. NESTED Loop (Loop Bersarang)\n",
        "print(\"6) NESTED loop\")\n",
        "for i in range(3):            # Loop luar (outer loop)\n",
        "    for j in range(2):        # Loop dalam (inner loop)\n",
        "        print(f\"i={i}, j={j}\")\n",
        "# Pada setiap iterasi i, loop j akan berjalan dari 0 sampai 1\n",
        "\n",
        "print()\n",
        "\n",
        "print(\"noted:\")\n",
        "print(\"Nested loop (perulangan bersarang) adalah struktur perulangan di mana satu loop ditempatkan di dalam loop lainnya,\")\n",
        "print(\"memungkinkan pengulangan kode secara berulang kali dengan iterasi yang lebih kompleks.\")"
      ],
      "metadata": {
        "id": "7f3GG88oa1fR",
        "outputId": "25501813-06c1-47e6-f585-853e8d930c01",
        "colab": {
          "base_uri": "https://localhost:8080/"
        }
      },
      "execution_count": 106,
      "outputs": [
        {
          "output_type": "stream",
          "name": "stdout",
          "text": [
            "6) NESTED loop\n",
            "i=0, j=0\n",
            "i=0, j=1\n",
            "i=1, j=0\n",
            "i=1, j=1\n",
            "i=2, j=0\n",
            "i=2, j=1\n",
            "\n",
            "noted:\n",
            "Nested loop (perulangan bersarang) adalah struktur perulangan di mana satu loop ditempatkan di dalam loop lainnya,\n",
            "memungkinkan pengulangan kode secara berulang kali dengan iterasi yang lebih kompleks.\n"
          ]
        }
      ]
    },
    {
      "cell_type": "code",
      "source": [
        "# 7. Memanfaatkan ELSE pada Loop\n",
        "print(\"7) ELSE pada loop for/while\")\n",
        "# Python memiliki fitur unik: blok else pada loop\n",
        "# Blok else akan dieksekusi jika loop selesai tanpa di-break.\n",
        "\n",
        "for x in range(3):\n",
        "  print(\"x =\", x)\n",
        "else:\n",
        "    print(\"Loop for telah selesai tanpa break.\\n\")\n",
        "\n",
        "y = 0\n",
        "while y < 3:\n",
        "    print(\"y =\", y)\n",
        "    y += 1\n",
        "else:\n",
        "    print(\"Loop while telah selesai tanpa break.\\n\")\n",
        "\n",
        "print(\"\")\n",
        "print(\"noted:\")\n",
        "print(\"Else pada loop adalah kata kunci yang digunakan untuk menjalankan kode jika kondisi if sebelumnya tidak terpenuhi.\")"
      ],
      "metadata": {
        "id": "BPuLvQFaa1bb",
        "outputId": "737b781c-c811-4933-b057-fc6577421bee",
        "colab": {
          "base_uri": "https://localhost:8080/"
        }
      },
      "execution_count": 107,
      "outputs": [
        {
          "output_type": "stream",
          "name": "stdout",
          "text": [
            "7) ELSE pada loop for/while\n",
            "x = 0\n",
            "x = 1\n",
            "x = 2\n",
            "Loop for telah selesai tanpa break.\n",
            "\n",
            "y = 0\n",
            "y = 1\n",
            "y = 2\n",
            "Loop while telah selesai tanpa break.\n",
            "\n",
            "\n",
            "noted:\n",
            "Else pada loop adalah kata kunci yang digunakan untuk menjalankan kode jika kondisi if sebelumnya tidak terpenuhi.\n"
          ]
        }
      ]
    },
    {
      "cell_type": "code",
      "source": [
        "# 8. PASS sebagai placeholder\n",
        "print(\"8) PASS (placeholder)\")\n",
        "for i in range(3):\n",
        "    if i == 1:\n",
        "        pass  # pass tidak melakukan apa-apa, digunakan sebagai placeholder\n",
        "    print(\"i =\", i)\n",
        "\n",
        "print(\"\")\n",
        "print(\"noted:\")\n",
        "print(\"PASS sebagai placeholder untuk menggantikan kode yang akan ditambahkan di masa mendatang\")"
      ],
      "metadata": {
        "id": "fb7rKzQLbana",
        "outputId": "47f9afb6-cf62-4036-d3d1-2ab8b0ee3a62",
        "colab": {
          "base_uri": "https://localhost:8080/"
        }
      },
      "execution_count": 108,
      "outputs": [
        {
          "output_type": "stream",
          "name": "stdout",
          "text": [
            "8) PASS (placeholder)\n",
            "i = 0\n",
            "i = 1\n",
            "i = 2\n",
            "\n",
            "noted:\n",
            "PASS sebagai placeholder untuk menggantikan kode yang akan ditambahkan di masa mendatang\n"
          ]
        }
      ]
    }
  ]
}