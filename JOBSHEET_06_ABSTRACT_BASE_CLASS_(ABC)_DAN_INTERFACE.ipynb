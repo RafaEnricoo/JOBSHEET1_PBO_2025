{
  "nbformat": 4,
  "nbformat_minor": 0,
  "metadata": {
    "colab": {
      "provenance": [],
      "authorship_tag": "ABX9TyPEVsHBR3Bx1GOlxhW0TuIq",
      "include_colab_link": true
    },
    "kernelspec": {
      "name": "python3",
      "display_name": "Python 3"
    },
    "language_info": {
      "name": "python"
    }
  },
  "cells": [
    {
      "cell_type": "markdown",
      "metadata": {
        "id": "view-in-github",
        "colab_type": "text"
      },
      "source": [
        "<a href=\"https://colab.research.google.com/github/RafaEnricoo/JOBSHEET1_PBO_2025/blob/main/JOBSHEET_06_ABSTRACT_BASE_CLASS_(ABC)_DAN_INTERFACE.ipynb\" target=\"_parent\"><img src=\"https://colab.research.google.com/assets/colab-badge.svg\" alt=\"Open In Colab\"/></a>"
      ]
    },
    {
      "cell_type": "markdown",
      "source": [
        "# MUHAMMAD RAFA ENRICO (4.33.24.2.15)"
      ],
      "metadata": {
        "id": "MtK7xu_ozmUe"
      }
    },
    {
      "cell_type": "markdown",
      "source": [
        "# JOBSHEET 06:ABSTRACT BASE CLASS (ABC) DAN INTERFACE\n"
      ],
      "metadata": {
        "id": "5V4g5vqBzsvX"
      }
    },
    {
      "cell_type": "markdown",
      "source": [
        "## Langkah Praktikum"
      ],
      "metadata": {
        "id": "ZgcjOP27z2sN"
      }
    },
    {
      "cell_type": "markdown",
      "source": [
        "### Praktikum 01: Mendefinisikan Kelas Abstrak Sederhana"
      ],
      "metadata": {
        "id": "QQ9oy1yczyEC"
      }
    },
    {
      "cell_type": "code",
      "execution_count": 2,
      "metadata": {
        "id": "8ju7xjfKwt_c",
        "outputId": "10446d9d-75e8-4ef9-af80-ca99e721722f",
        "colab": {
          "base_uri": "https://localhost:8080/"
        }
      },
      "outputs": [
        {
          "output_type": "stream",
          "name": "stdout",
          "text": [
            "Definisi Kelas Abstarak 'KendaraanAbstrak' selesai.\n",
            "\n",
            "Contoh definisi kelas anak 'Mobil' selesai.\n",
            "Inisialisasi KendaraanAbstrak dengan merk: Toyota\n",
            "Mesin mobil Toyota dinyalakan\n",
            "Merk kendaraan ini adalah Toyota\n",
            "Mesin mobil Toyota dimatikan\n"
          ]
        }
      ],
      "source": [
        "# Impor komponen yang diperlukan dari modul abc\n",
        "from abc import ABC, abstractmethod\n",
        "\n",
        "# 1. Definisikan Kelas Abstrak\n",
        "#    Kelas ini mewarisi dari ABC untuk menandakan bahwa ia adalah Abstract Base Class.\n",
        "class KendaraanAbstrak(ABC):\n",
        "  def __init__(self, merk):\n",
        "    self.merk = merk\n",
        "    print(f\"Inisialisasi KendaraanAbstrak dengan merk: {self.merk}\")\n",
        "\n",
        "  # Metode konkret (tidak abstrak)\n",
        "  # Metode ini sudah memiliki implementasi dan bisa diwarisi langsung\n",
        "  def info_merk(self):\n",
        "    print(f\"Merk kendaraan ini adalah {self.merk}\")\n",
        "\n",
        "  # 2. Definisikan Metode Abstrak\n",
        "  #    Dekorator @abstractmethod menandakan metode ini WAJIB\n",
        "  #    diimplementasikan (di-override) oleh subclass konkret.\n",
        "  @abstractmethod\n",
        "  def start_mesin(self):\n",
        "    # Kode di dalam metode ini adalah implementasinya\n",
        "    print(f\"Mesin mobil {self.merk} dinyalakan.\") # Mencetak status 'dinyalakan'\n",
        "\n",
        "  # kelas Mobil ini juga akan menjadi abstrak.\n",
        "  def stop_mesin(self):\n",
        "    # Kode di dalam metode ini adalah implementasinya\n",
        "    print(f\"Mesin mobil {self.merk} dimatikan.\") # Mencetak status 'dimatikan'\n",
        "\n",
        "# -- Kode Utama -- (Hanya definisi, belum ada instansiasi kelas abstrak)\n",
        "if __name__== \"__main__\":\n",
        "  print(\"Definisi Kelas Abstarak 'KendaraanAbstrak' selesai.\")\n",
        "\n",
        "  # Contoh definisi kelas anak (konkret)\n",
        "  # Kelas ini mewarisi dari KendaraanAbtrak\n",
        "  class Mobil(KendaraanAbstrak):\n",
        "    # Implementasi metode abstrak start_mesin\n",
        "    def start_mesin(self):\n",
        "      # Kode di dalam metode ini adalah implementasinya\n",
        "      print(f\"Mesin mobil {self.merk} dinyalakan\") # Mencetak status 'dinyalakan'\n",
        "\n",
        "    # Implementasi metode abstrak stop mesin\n",
        "    # Jika salah satu metode abstrak tidak diimplementasi, kelas mobil ini juga akan menjadi abstrak.\n",
        "    def stop_mesin(self):\n",
        "      # Kode di dalam metode ini adalah implementasinya\n",
        "      print(f\"Mesin mobil {self.merk} dimatikan\") # Mencetak status 'dimatikan'\n",
        "\n",
        "  print(\"\\nContoh definisi kelas anak 'Mobil' selesai.\")\n",
        "\n",
        "  # Membuat objek dari kelas anak (konkret) diperbolehkan\n",
        "  mobil_contoh = Mobil(\"Toyota\")\n",
        "\n",
        "  # Memanggil metode yang diimplementasi di kelas anak\n",
        "  mobil_contoh.start_mesin()\n",
        "\n",
        "  # Memanggil metode konkret yang diwarisi dari kelas abstrak\n",
        "  mobil_contoh.info_merk()\n",
        "\n",
        "  # Memanggil metode lain yang diimplementasi di kelas anak\n",
        "  mobil_contoh.stop_mesin()"
      ]
    },
    {
      "cell_type": "markdown",
      "source": [
        "### Praktikum 02: Mencoba Instansiasi Kelas Abstrak"
      ],
      "metadata": {
        "id": "-3XeOPRT3ypx"
      }
    },
    {
      "cell_type": "code",
      "source": [
        "from abc import ABC, abstractmethod\n",
        "\n",
        "# Definisikan kelas abstrak\n",
        "class MediaAbstrak(ABC):\n",
        "  def __init__(self, judul):\n",
        "    self.judul = judul\n",
        "    print(f\"Inisialisasi MediaAbstrak dengan judul: {self.judul}\")\n",
        "\n",
        "  @abstractmethod\n",
        "  def play(self):\n",
        "    \"\"\"Metode abstrak untuk memulai pemutaran.\"\"\"\n",
        "    pass\n",
        "\n",
        "  @abstractmethod\n",
        "  def stop(self):\n",
        "    \"\"\"Metode abstrak untuk menghentikan pemutaran.\"\"\"\n",
        "    pass\n",
        "\n",
        "# -- Kode Utama --\n",
        "if __name__ == \"__main__\":\n",
        "  print(\"Mencoba membuat objek dari kelas abstrak MediaAbstrak...\")\n",
        "\n",
        "  # Blok try-except untuk menangkap error yang diharapkan\n",
        "  try:\n",
        "    # Baris ini akan menyebabkan TypeError karena MediaAbstrak\n",
        "    # memiliki metode abstrak (play dan stop) yang belum diimplementasi.\n",
        "    media = MediaAbstrak(\"Konten Abstrak\")\n",
        "\n",
        "    # Kode dibawah ini tidak akan pernah dijalankan jika error terjadi\n",
        "    print(\"Objek berhasil dibuat (SEHARUSNYA TIDAK TERJADI).\")\n",
        "    media.play()\n",
        "\n",
        "  except TypeError as e:\n",
        "    # Menangkap dan menampilkan error TyperError\n",
        "    print(f\"\\nGAGAL membuat objek!\")\n",
        "    print(f\"Error yang muncul (sesuai harapan): {e}\")\n",
        "    print(\"\\nIni membuktikan bahwa kelas abstrak tidak bisa diinstansiasi\")\n",
        "    print(\"Jika masih memliki metode abstrak yang belum diimplementasikan.\")"
      ],
      "metadata": {
        "id": "UaWkXoo033jP",
        "outputId": "a323a69e-342e-4aa2-9ea2-08ba6cadd1d2",
        "colab": {
          "base_uri": "https://localhost:8080/"
        }
      },
      "execution_count": 10,
      "outputs": [
        {
          "output_type": "stream",
          "name": "stdout",
          "text": [
            "Mencoba membuat objek dari kelas abstrak MediaAbstrak...\n",
            "\n",
            "GAGAL membuat objek!\n",
            "Error yang muncul (sesuai harapan): Can't instantiate abstract class MediaAbstrak with abstract methods play, stop\n",
            "\n",
            "Ini membuktikan bahwa kelas abstrak tidak bisa diinstansiasi\n",
            "Jika masih memliki metode abstrak yang belum diimplementasikan.\n"
          ]
        }
      ]
    },
    {
      "cell_type": "markdown",
      "source": [
        "### Praktikum 03: Membuat Subclass Konkret - Alat Pembayaran"
      ],
      "metadata": {
        "id": "1SBCd1X-6qJH"
      }
    },
    {
      "cell_type": "code",
      "source": [
        "from abc import ABC, abstractmethod\n",
        "import locale\n",
        "import random # Untuk simulasi\n",
        "\n",
        "# Setting locale Indonesia\n",
        "try:\n",
        "  locale.setlocale(locale.LC_ALL, 'id_ID.UTF-8')\n",
        "except locale.Error:\n",
        "  print(\"Locale id_ID.UTF-8 tidak tersedia, gunakan locale default.\")\n",
        "\n",
        "def format_rupiah(angka):\n",
        "  try:\n",
        "        # Coba format menggunakan locale jika tersedia\n",
        "        formatted = locale.currency(angka, grouping=True, symbol='Rp ')\n",
        "        return formatted\n",
        "  except Exception:\n",
        "        # Jika gagal (misalnya locale tidak diset atau tidak tersedia), fallback manual\n",
        "        return f\"Rp {angka:,.0f}\".replace(',', '.')\n",
        "\n",
        "# Kelas Abstrak\n",
        "class AlatPembayaranAbstract(ABC):\n",
        "  def __init__(self, nama_metode):\n",
        "    self.nama_metode = nama_metode\n",
        "    print(f\"Inisialisasi alat pembayaran: {self.nama_metode}\")\n",
        "\n",
        "  def info(self):\n",
        "    print(f\"Metode pembayaran: {self.nama_metode}\")\n",
        "\n",
        "  @abstractmethod\n",
        "  def proses_pembayaran(self, jumlah):\n",
        "    \"\"\"\n",
        "    Metode abstrak untuk memproses pembayaran sejumlah 'jumlah'.\n",
        "    Harus diimplementasikan oleh subclass.\n",
        "    Harus mengembalikan True jika berhasil, False jika gagal.\n",
        "    \"\"\"\n",
        "    pass\n",
        "\n",
        "# --- Implementasi Subclass Konkret ---\n",
        "# 1. Subclass Konkret Pertama: KartuKredit\n",
        "class KartuKredit(AlatPembayaranAbstract):\n",
        "  def __init__(self, nomor_kartu, nama_pemilik):\n",
        "    super().__init__(\"Kartu Kredit\")\n",
        "    self.nomor_kartu = nomor_kartu[-4:] # Simpan 4 digit terakhir saja\n",
        "    self.nama_pemilik = nama_pemilik\n",
        "    print(f\"-> Kartu Kredit: ************{self.nomor_kartu}({self.nama_pemilik}) siap.\")\n",
        "\n",
        "  # Implementas metode abstrak proses_pembayaran\n",
        "  def proses_pembayaran(self, jumlah):\n",
        "    print(f\"Memproses pembayaran {format_rupiah(jumlah)} via Kartu Kredit ************{self.nomor_kartu}...\")\n",
        "    # Simulasi keberhasilan/kegagalan\n",
        "    berhasil = random.choice([True, False])\n",
        "    if berhasil:\n",
        "      print(\"Pembayaran Kartu Kredit Berhasil!\")\n",
        "      return True\n",
        "    else:\n",
        "      print(\"Pembayaran Kartu Kredit Gagal! (Limit tidak cukup/Error).\")\n",
        "      return False\n",
        "\n",
        "# 2. Subclass Konkret Kedua: DompetDigital\n",
        "class DompetDigital(AlatPembayaranAbstract):\n",
        "  def __init__(self, nama_telepon, nama_provider):\n",
        "    super().__init__(f\"Dompet Digital ({nama_provider})\")\n",
        "    self.nama_telepon = nama_telepon\n",
        "    self.saldo = random.randint(50000, 500000) # Saldo awal acak\n",
        "    print(f\"-> Dompet Digital {self.nama_telepon} siap (Saldo:{format_rupiah(self.saldo)}).\")\n",
        "\n",
        "  # Implementasi metode abstrak proses_pembayaran\n",
        "  def proses_pembayaran(self, jumlah):\n",
        "    print(f\"Memproses pembayaran {format_rupiah(jumlah)} via Dompet Digital {self.nama_telepon}...\")\n",
        "    if jumlah <= self.saldo:\n",
        "      self.saldo -= jumlah\n",
        "      print(\"Pembayaran Dompet Digital Berhasil!\")\n",
        "      print(f\"Saldo tersisa: {format_rupiah(self.saldo)}\")\n",
        "      return True\n",
        "    else:\n",
        "      print(\"Pembayaran Dompet Digital Gagal! (Saldo tidak mencukupi).\")\n",
        "      print(f\"Saldo saat ini: {format_rupiah(self.saldo)}\")\n",
        "      return False\n",
        "\n",
        "# --- Kode Utama ---\n",
        "if __name__ == \"__main__\":\n",
        "  print(\"\\nMembuat Objek Alat Pembayaran...\")\n",
        "  kartu_bca = KartuKredit(\"1234-5678-9012-3456\", \"Rafa Enrico\")\n",
        "  gopay = DompetDigital(\"08123456789\", \"Gopay\")\n",
        "\n",
        "  print(\"\\nMelakukan Pembayaran:\")\n",
        "\n",
        "  print(\"\\nMencoba bayar dengan Kartu Kredit:\")\n",
        "  kartu_bca.info()\n",
        "  status_kk = kartu_bca.proses_pembayaran(150000)\n",
        "  print(f\"Status Transaksi KK: {'Sukses' if status_kk else 'Gagal'}\")\n",
        "\n",
        "  print(\"\\nMencoba bayar dengan Gopay(Jumlah Kecil):\")\n",
        "  gopay.info()\n",
        "  status_gopay1 = gopay.proses_pembayaran(75000)\n",
        "  print(f\"Status Transaksi Gopay 1: {'Sukses' if status_gopay1 else 'Gagal'}\")\n",
        "\n",
        "  print(\"\\nMencoba bayar dengan Gopay(Jumlah Besar):\")\n",
        "  status_gopay2 = gopay.proses_pembayaran(1000000) # Kemungkinan gagal karena saldo kurang\n",
        "  print(f\"Status Transaksi Gopay 2: {'Sukses' if status_gopay2 else 'Gagal'}\")\n"
      ],
      "metadata": {
        "id": "JudTMSV556od",
        "outputId": "b9c2d51c-1171-4f90-c39c-f7a47293f11b",
        "colab": {
          "base_uri": "https://localhost:8080/"
        }
      },
      "execution_count": 30,
      "outputs": [
        {
          "output_type": "stream",
          "name": "stdout",
          "text": [
            "Locale id_ID.UTF-8 tidak tersedia, gunakan locale default.\n",
            "\n",
            "Membuat Objek Alat Pembayaran...\n",
            "Inisialisasi alat pembayaran: Kartu Kredit\n",
            "-> Kartu Kredit: ************3456(Rafa Enrico) siap.\n",
            "Inisialisasi alat pembayaran: Dompet Digital (Gopay)\n",
            "-> Dompet Digital 08123456789 siap (Saldo:Rp 101.005).\n",
            "\n",
            "Melakukan Pembayaran:\n",
            "\n",
            "Mencoba bayar dengan Kartu Kredit:\n",
            "Metode pembayaran: Kartu Kredit\n",
            "Memproses pembayaran Rp 150.000 via Kartu Kredit ************3456...\n",
            "Pembayaran Kartu Kredit Berhasil!\n",
            "Status Transaksi KK: Sukses\n",
            "\n",
            "Mencoba bayar dengan Gopay(Jumlah Kecil):\n",
            "Metode pembayaran: Dompet Digital (Gopay)\n",
            "Memproses pembayaran Rp 75.000 via Dompet Digital 08123456789...\n",
            "Pembayaran Dompet Digital Berhasil!\n",
            "Saldo tersisa: Rp 26.005\n",
            "Status Transaksi Gopay 1: Sukses\n",
            "\n",
            "Mencoba bayar dengan Gopay(Jumlah Besar):\n",
            "Memproses pembayaran Rp 1.000.000 via Dompet Digital 08123456789...\n",
            "Pembayaran Dompet Digital Gagal! (Saldo tidak mencukupi).\n",
            "Saldo saat ini: Rp 26.005\n",
            "Status Transaksi Gopay 2: Gagal\n"
          ]
        }
      ]
    },
    {
      "cell_type": "markdown",
      "source": [
        "### Praktikum 04: Menggunakan Kelas Abstrak untuk Polimorfisme - Dokumen"
      ],
      "metadata": {
        "id": "eX4nnQpeGzO8"
      }
    },
    {
      "cell_type": "code",
      "source": [],
      "metadata": {
        "id": "q_H5dkpWGzAS"
      },
      "execution_count": null,
      "outputs": []
    },
    {
      "cell_type": "code",
      "source": [],
      "metadata": {
        "id": "5YnZCEJv_ymn"
      },
      "execution_count": null,
      "outputs": []
    }
  ]
}