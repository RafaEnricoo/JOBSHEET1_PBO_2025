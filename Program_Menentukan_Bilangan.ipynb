{
  "nbformat": 4,
  "nbformat_minor": 0,
  "metadata": {
    "colab": {
      "provenance": [],
      "authorship_tag": "ABX9TyMD8wcXfB/1lCt7MPjBQyw9",
      "include_colab_link": true
    },
    "kernelspec": {
      "name": "python3",
      "display_name": "Python 3"
    },
    "language_info": {
      "name": "python"
    }
  },
  "cells": [
    {
      "cell_type": "markdown",
      "metadata": {
        "id": "view-in-github",
        "colab_type": "text"
      },
      "source": [
        "<a href=\"https://colab.research.google.com/github/RafaEnricoo/JOBSHEET1_PBO_2025/blob/main/Program_Menentukan_Bilangan.ipynb\" target=\"_parent\"><img src=\"https://colab.research.google.com/assets/colab-badge.svg\" alt=\"Open In Colab\"/></a>"
      ]
    },
    {
      "cell_type": "code",
      "execution_count": null,
      "metadata": {
        "id": "lAR21COh91Js",
        "outputId": "a0e7506f-dbfc-437f-9243-c33d408a4c95",
        "colab": {
          "base_uri": "https://localhost:8080/"
        }
      },
      "outputs": [
        {
          "output_type": "stream",
          "name": "stdout",
          "text": [
            "-----------------------------------------------------------\n",
            "                 Program Mengecek Bilangan                 \n",
            "-----------------------------------------------------------\n"
          ]
        }
      ],
      "source": [
        "# MUHAMMAD RAFA ENRICO(4.33.24.2.15)\n",
        "# Program Mengecek Bilangan (Genap, Ganjil, atau Prima)\n",
        "\n",
        "print(\"-----------------------------------------------------------\")\n",
        "print(\"                 Program Mengecek Bilangan                 \")\n",
        "print(\"-----------------------------------------------------------\")\n",
        "\n",
        "while True:\n",
        "    try:\n",
        "        angka = int(input(\"Masukkan bilangan yang ingin dicek: \"))\n",
        "\n",
        "        # Mengecek apakah bilangan genap atau ganjil\n",
        "        if angka % 2 == 0:\n",
        "            jenis = f\"Angka {angka} adalah bilangan Genap\"\n",
        "        else:\n",
        "            jenis = f\"Angka {angka} adalah bilangan Ganjil\"\n",
        "\n",
        "        # Mengecek apakah bilangan adalah bilangan prima\n",
        "        status = f\"Angka {angka} adalah bilangan Prima\"\n",
        "        if angka < 2:\n",
        "            status = f\"Angka {angka} bukan bilangan Prima\"\n",
        "        else:\n",
        "            for i in range(2, int(angka**0.5) + 1):\n",
        "                if angka % i == 0:\n",
        "                    status = f\"Angka {angka} bukan bilangan Prima\"\n",
        "                    break\n",
        "\n",
        "        # Menampilkan hasil\n",
        "        print(f\"\\nBilangan:{angka}\")\n",
        "        print(f\"Jenis: {jenis}\")\n",
        "        print(f\"Status: {status}\\n\")\n",
        "\n",
        "        # Menanyakan apakah ingin mengulangi program\n",
        "        while True:\n",
        "            ulang = input(\"Apakah ingin mengecek bilangan lain? (y/n): \").strip().lower()\n",
        "            if ulang in [\"y\", \"n\"]:\n",
        "                break\n",
        "            print(\"Error: Harap masukkan 'y' untuk ya atau 'n' untuk tidak.\")\n",
        "\n",
        "        if ulang == \"n\":\n",
        "            print(\"\\nTerima kasih telah menggunakan program! 😊\")\n",
        "            break\n",
        "    except ValueError:\n",
        "        print(\"Error: Harap masukkan bilangan bulat yang valid.\")\n"
      ]
    }
  ]
}